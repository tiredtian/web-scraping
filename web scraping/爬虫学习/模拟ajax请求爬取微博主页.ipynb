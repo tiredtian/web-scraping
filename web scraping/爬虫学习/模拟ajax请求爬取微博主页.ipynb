{
 "cells": [
  {
   "cell_type": "code",
   "execution_count": null,
   "id": "28574d11",
   "metadata": {},
   "outputs": [],
   "source": [
    "网页数据：包含在原始html文档中，经过javascript处理后得到的结果\n",
    "Ajax：Asynchronous JavaScript and XML 异步javascript和xml\n",
    "Ajax基本原理：发送请求 解析内容 渲染网页\n",
    "检查网页：xhr类型为ajax类型请求"
   ]
  },
  {
   "cell_type": "code",
   "execution_count": 7,
   "id": "272ae2df",
   "metadata": {},
   "outputs": [],
   "source": [
    "# 当前微博已经优化数据加载方式，url经过优化，无法大量爬取\n",
    "from urllib.parse import urlencode\n",
    "import requests\n",
    "\n",
    "headers={\n",
    "    'Referer':'https://m.weibo.cn/u/2830678474',\n",
    "    'User_Agent':'Mozilla/5.0 (Macintosh; Intel Mac OS X 10_15_7) AppleWebKit/537.36 (KHTML, like Gecko) Chrome/114.0.0.0 Safari/537.36',\n",
    "    'X-Requested-With': 'XMLHttpRequest', \n",
    "}\n",
    "base_url = 'https://m.weibo.cn/api/container/getIndex?'"
   ]
  },
  {
   "cell_type": "code",
   "execution_count": 10,
   "id": "9bd82e00",
   "metadata": {},
   "outputs": [],
   "source": [
    "def get_page(sinceId):\n",
    "    params = {\n",
    "        'type': 'uid',  \n",
    "        'value': '2830678474',  \n",
    "        'containerid': '1076032830678474',  \n",
    "        'since_id': sinceId\n",
    "    }\n",
    "    url = base_url+urlencode(params)\n",
    "    try:\n",
    "        response = requests.get(url,headers = headers)\n",
    "        if response.status_code == 200:\n",
    "            return response.json()\n",
    "    except requests.ConnectionError as e:\n",
    "            print('error',e.args)"
   ]
  },
  {
   "cell_type": "code",
   "execution_count": 11,
   "id": "9ec2bf98",
   "metadata": {},
   "outputs": [],
   "source": [
    "from pyquery import PyQuery as pq"
   ]
  },
  {
   "cell_type": "code",
   "execution_count": 12,
   "id": "91d0a0e7",
   "metadata": {},
   "outputs": [],
   "source": [
    "def parse_page(json):\n",
    "    if json:\n",
    "        items = json.get('data').get('cards')\n",
    "        for item in items:\n",
    "            item = item.get('mblog')\n",
    "            weibo = {}\n",
    "            weibo['id'] = item.get('id')\n",
    "            weibo['text'] = pq(item.get('text')).text()  \n",
    "            weibo['attitudes'] = item.get('attitudes_count')  \n",
    "            weibo['comments'] = item.get('comments_count')  \n",
    "            weibo['reposts'] = item.get('reposts_count')\n",
    "            yield weibo"
   ]
  },
  {
   "cell_type": "code",
   "execution_count": 16,
   "id": "dd4fa187",
   "metadata": {},
   "outputs": [
    {
     "name": "stdout",
     "output_type": "stream",
     "text": [
      "{'id': '4909253866817561', 'text': '', 'attitudes': 1, 'comments': 0, 'reposts': 1}\n",
      "{'id': '4905962852843533', 'text': '// @霜叶 :草// @二猪 : // @以史为鉴V :哈哈哈哈哈// @宣和一人 :李玉刚回美国哈哈哈哈哈哈', 'attitudes': 3, 'comments': 1, 'reposts': 0}\n",
      "{'id': '4902462421471329', 'text': '', 'attitudes': 4, 'comments': 0, 'reposts': 0}\n",
      "{'id': '4901639801278630', 'text': '啊啊啊啊不敢相信// @小林犬 : R.I.P. ，耗子老师一路走好', 'attitudes': 3, 'comments': 0, 'reposts': 2}\n",
      "{'id': '4892911601189884', 'text': '转发微博', 'attitudes': 3, 'comments': 0, 'reposts': 1}\n",
      "{'id': '4892560978084692', 'text': '转发微博', 'attitudes': 1, 'comments': 0, 'reposts': 0}\n",
      "{'id': '4892321444797301', 'text': '', 'attitudes': 2, 'comments': 3, 'reposts': 1}\n",
      "{'id': '4891878346458262', 'text': '', 'attitudes': 1, 'comments': 1, 'reposts': 0}\n",
      "{'id': '4891878002528392', 'text': '// @hangcom2010 :私有化部署可以玩起来// @imClumsyPanda :感谢大家对项目的支持 🙏 本项目目前已连续3天登上 Github 当日热门仓库，并在上线8天时间获得超过 1000 Stars 后续将会对项目进行持续优化。', 'attitudes': 3, 'comments': 1, 'reposts': 71}\n"
     ]
    }
   ],
   "source": [
    "sinceId = '4909253866817561'\n",
    "json = get_page(sinceId)  \n",
    "results = parse_page(json)  \n",
    "for result in results:\n",
    "    print(result)"
   ]
  },
  {
   "cell_type": "code",
   "execution_count": null,
   "id": "95446715",
   "metadata": {},
   "outputs": [],
   "source": []
  }
 ],
 "metadata": {
  "kernelspec": {
   "display_name": "python36",
   "language": "python",
   "name": "python36"
  },
  "language_info": {
   "codemirror_mode": {
    "name": "ipython",
    "version": 3
   },
   "file_extension": ".py",
   "mimetype": "text/x-python",
   "name": "python",
   "nbconvert_exporter": "python",
   "pygments_lexer": "ipython3",
   "version": "3.6.2"
  }
 },
 "nbformat": 4,
 "nbformat_minor": 5
}
