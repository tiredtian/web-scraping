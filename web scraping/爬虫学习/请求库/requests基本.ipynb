{
 "cells": [
  {
   "cell_type": "markdown",
   "id": "6de212e1",
   "metadata": {},
   "source": [
    "requests库 更强大"
   ]
  },
  {
   "cell_type": "code",
   "execution_count": 1,
   "id": "ef085c38",
   "metadata": {},
   "outputs": [],
   "source": [
    "import requests"
   ]
  },
  {
   "cell_type": "code",
   "execution_count": 2,
   "id": "809acd1b",
   "metadata": {},
   "outputs": [
    {
     "name": "stdout",
     "output_type": "stream",
     "text": [
      "{\n",
      "  \"args\": {}, \n",
      "  \"headers\": {\n",
      "    \"Accept\": \"*/*\", \n",
      "    \"Accept-Encoding\": \"gzip, deflate\", \n",
      "    \"Host\": \"httpbin.org\", \n",
      "    \"User-Agent\": \"python-requests/2.17.3\", \n",
      "    \"X-Amzn-Trace-Id\": \"Root=1-64acbc23-33e2fde162e79ba23dee7d53\"\n",
      "  }, \n",
      "  \"origin\": \"191.101.132.8\", \n",
      "  \"url\": \"http://httpbin.org/get\"\n",
      "}\n",
      "\n"
     ]
    }
   ],
   "source": [
    "r = requests.get('http://httpbin.org/get')  \n",
    "print(r.text)"
   ]
  },
  {
   "cell_type": "markdown",
   "id": "ec3a7a9b",
   "metadata": {},
   "source": [
    "带参"
   ]
  },
  {
   "cell_type": "code",
   "execution_count": 3,
   "id": "113ee789",
   "metadata": {},
   "outputs": [
    {
     "name": "stdout",
     "output_type": "stream",
     "text": [
      "{\n",
      "  \"args\": {\n",
      "    \"age\": \"22\", \n",
      "    \"name\": \"germey\"\n",
      "  }, \n",
      "  \"headers\": {\n",
      "    \"Accept\": \"*/*\", \n",
      "    \"Accept-Encoding\": \"gzip, deflate\", \n",
      "    \"Host\": \"httpbin.org\", \n",
      "    \"User-Agent\": \"python-requests/2.17.3\", \n",
      "    \"X-Amzn-Trace-Id\": \"Root=1-64acbc6a-29158ae017a1aac71b5d6d5a\"\n",
      "  }, \n",
      "  \"origin\": \"191.101.132.5\", \n",
      "  \"url\": \"http://httpbin.org/get?name=germey&age=22\"\n",
      "}\n",
      "\n"
     ]
    }
   ],
   "source": [
    "data = {  \n",
    "    'name': 'germey',  \n",
    "    'age': 22  \n",
    "}  \n",
    "r = requests.get(\"http://httpbin.org/get\", params=data)  \n",
    "print(r.text)"
   ]
  },
  {
   "cell_type": "code",
   "execution_count": null,
   "id": "b6f4a09a",
   "metadata": {},
   "outputs": [],
   "source": [
    "requests返回的网页请求结果是json格式的str类型，调用json方法解析为字典类型"
   ]
  },
  {
   "cell_type": "code",
   "execution_count": 4,
   "id": "6b0a523c",
   "metadata": {},
   "outputs": [
    {
     "name": "stdout",
     "output_type": "stream",
     "text": [
      "<class 'str'>\n",
      "{'args': {}, 'headers': {'Accept': '*/*', 'Accept-Encoding': 'gzip, deflate', 'Host': 'httpbin.org', 'User-Agent': 'python-requests/2.17.3', 'X-Amzn-Trace-Id': 'Root=1-64acbc9b-03183a7f4d57d681470b174d'}, 'origin': '191.101.132.5', 'url': 'http://httpbin.org/get'}\n",
      "<class 'dict'>\n"
     ]
    }
   ],
   "source": [
    "r = requests.get(\"http://httpbin.org/get\")  \n",
    "print(type(r.text))  \n",
    "print(r.json())  \n",
    "print(type(r.json()))"
   ]
  },
  {
   "cell_type": "markdown",
   "id": "5f82bb1b",
   "metadata": {},
   "source": [
    "抓取普通网页"
   ]
  },
  {
   "cell_type": "code",
   "execution_count": 6,
   "id": "bd2ed4a1",
   "metadata": {},
   "outputs": [
    {
     "name": "stdout",
     "output_type": "stream",
     "text": [
      "[]\n"
     ]
    }
   ],
   "source": [
    "import requests\n",
    "import re\n",
    "\n",
    "headers = {'User-Agent': 'Mozilla/5.0 (Macintosh; Intel Mac OS X 10_15_7) AppleWebKit/537.36 (KHTML, like Gecko) Chrome/114.0.0.0 Safari/537.36'\n",
    "}\n",
    "r = requests.get(\"https://www.zhihu.com/explore\", headers=headers)\n",
    "pattern = re.compile('explore-feed.*?question_link.*?>(.*?)</a>', re.S)\n",
    "titles = re.findall(pattern, r.text)\n",
    "print(titles)"
   ]
  },
  {
   "cell_type": "markdown",
   "id": "db3e6b84",
   "metadata": {},
   "source": [
    "抓取图片 音频等二进制数据"
   ]
  },
  {
   "cell_type": "code",
   "execution_count": 9,
   "id": "2616ad46",
   "metadata": {
    "scrolled": false
   },
   "outputs": [],
   "source": [
    "import requests\n",
    "\n",
    "r = requests.get(\"https://github.com/favicon.ico\")\n",
    "# 上下问文管理器，打开文件，写入图片，关闭文件\n",
    "with open('favicon.ico', 'wb') as f:\n",
    "    f.write(r.content)"
   ]
  },
  {
   "cell_type": "markdown",
   "id": "c14b1065",
   "metadata": {},
   "source": [
    "post 请求"
   ]
  },
  {
   "cell_type": "code",
   "execution_count": 11,
   "id": "2e22b3e7",
   "metadata": {},
   "outputs": [
    {
     "name": "stdout",
     "output_type": "stream",
     "text": [
      "{\n",
      "  \"args\": {}, \n",
      "  \"data\": \"\", \n",
      "  \"files\": {}, \n",
      "  \"form\": {\n",
      "    \"age\": \"22\", \n",
      "    \"name\": \"germey\"\n",
      "  }, \n",
      "  \"headers\": {\n",
      "    \"Accept\": \"*/*\", \n",
      "    \"Accept-Encoding\": \"gzip, deflate\", \n",
      "    \"Content-Length\": \"18\", \n",
      "    \"Content-Type\": \"application/x-www-form-urlencoded\", \n",
      "    \"Host\": \"httpbin.org\", \n",
      "    \"User-Agent\": \"python-requests/2.17.3\", \n",
      "    \"X-Amzn-Trace-Id\": \"Root=1-64acbf7f-207367c33ed579fb1ac5294f\"\n",
      "  }, \n",
      "  \"json\": null, \n",
      "  \"origin\": \"191.101.132.8\", \n",
      "  \"url\": \"http://httpbin.org/post\"\n",
      "}\n",
      "\n"
     ]
    }
   ],
   "source": [
    "import requests\n",
    "\n",
    "data = {'name': 'germey', 'age': '22'}\n",
    "r = requests.post(\"http://httpbin.org/post\", data=data)\n",
    "print(r.text)"
   ]
  },
  {
   "cell_type": "markdown",
   "id": "75ad8fed",
   "metadata": {},
   "source": [
    "状态码"
   ]
  },
  {
   "cell_type": "code",
   "execution_count": 12,
   "id": "64a196ed",
   "metadata": {},
   "outputs": [],
   "source": [
    "import requests\n",
    "\n",
    "r = requests.get('http://www.jianshu.com')\n",
    "exit() if not r.status_code == requests.codes.ok else print('Request Successfully')"
   ]
  },
  {
   "cell_type": "code",
   "execution_count": null,
   "id": "0e388a5f",
   "metadata": {},
   "outputs": [],
   "source": []
  }
 ],
 "metadata": {
  "kernelspec": {
   "display_name": "python36",
   "language": "python",
   "name": "python36"
  },
  "language_info": {
   "codemirror_mode": {
    "name": "ipython",
    "version": 3
   },
   "file_extension": ".py",
   "mimetype": "text/x-python",
   "name": "python",
   "nbconvert_exporter": "python",
   "pygments_lexer": "ipython3",
   "version": "3.6.2"
  }
 },
 "nbformat": 4,
 "nbformat_minor": 5
}
