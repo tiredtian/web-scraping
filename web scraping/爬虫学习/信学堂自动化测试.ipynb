{
 "cells": [
  {
   "cell_type": "code",
   "execution_count": 78,
   "id": "c35dcc59",
   "metadata": {},
   "outputs": [],
   "source": [
    "from selenium import webdriver\n",
    "from selenium.webdriver.common.by import By\n",
    "from selenium.webdriver.common.keys import Keys\n",
    "from selenium.webdriver.support import expected_conditions as EC\n",
    "from selenium.webdriver.support.wait import WebDriverWait"
   ]
  },
  {
   "cell_type": "code",
   "execution_count": 79,
   "id": "df7f5f74",
   "metadata": {},
   "outputs": [],
   "source": [
    "browser = webdriver.Chrome()\n",
    "url = 'https://sso.asiainfo.com/login?service=https%3A%2F%2Fkaragw.asiainfo.com%2Fxin%2Fsso%2Fcallback%2FeyJzY29wZSI6ImFsbCIsInJlc3BvbnNlX3R5cGUiOiJjb2RlIiwic3RhdGUiOiJvYSIsInJlZGlyZWN0X3VyaSI6Imh0dHBzOi8veGluLmFzaWFpbmZvLmNvbToxOTU4My93ZWJhcHBzL2thcmEtZm9yd2FyZC13ZWIvc2Nob29sLmh0bWwiLCJjbGllbnRfaWQiOiIzMWUxNDM3NGU1MjFjMWQ0MmU3OTAwZmJmZjcyNjE4MSJ9'\n",
    "browser.get(url)"
   ]
  },
  {
   "cell_type": "code",
   "execution_count": 80,
   "id": "7b7906c6",
   "metadata": {},
   "outputs": [],
   "source": [
    "username = 'tianzp'\n",
    "password = 'tzptzp1213..'\n",
    "\n",
    "un = browser.find_element_by_id('username')\n",
    "un.send_keys(username)\n",
    "pwd = browser.find_element_by_id('password')\n",
    "pwd.send_keys(password)\n",
    "pwd.send_keys(Keys.ENTER)\n",
    "wait = WebDriverWait(browser, 30)"
   ]
  },
  {
   "cell_type": "code",
   "execution_count": 81,
   "id": "52917787",
   "metadata": {},
   "outputs": [],
   "source": [
    "study_plan = browser.find_element_by_css_selector('.infor-list.mt15 .db')\n",
    "study_plan.click()"
   ]
  },
  {
   "cell_type": "code",
   "execution_count": 82,
   "id": "16ba20b5",
   "metadata": {},
   "outputs": [],
   "source": [
    "divs = browser.find_elements_by_css_selector('.el-plan-bottom.text-center .font-size-16.text-color6.ellipsis')\n",
    "divs[1].click()"
   ]
  },
  {
   "cell_type": "code",
   "execution_count": 83,
   "id": "87d33069",
   "metadata": {},
   "outputs": [
    {
     "name": "stderr",
     "output_type": "stream",
     "text": [
      "/Users/tianziping/anaconda3/envs/python36/lib/python3.6/site-packages/ipykernel_launcher.py:1: DeprecationWarning: use driver.switch_to.window instead\n",
      "  \"\"\"Entry point for launching an IPython kernel.\n"
     ]
    },
    {
     "name": "stdout",
     "output_type": "stream",
     "text": [
      "100%\n",
      "100%\n",
      "0%\n",
      "0%\n",
      "0%\n",
      "0%\n",
      "0%\n",
      "0%\n",
      "0%\n",
      "0%\n",
      "0%\n",
      "0%\n",
      "0%\n",
      "0%\n"
     ]
    }
   ],
   "source": [
    "browser.switch_to_window(browser.window_handles[1])\n",
    "courses = browser.find_elements_by_css_selector('.pull-right.lh35.w-150 span:nth-of-type(2)')\n",
    "for course in courses:\n",
    "    print(course.text)"
   ]
  },
  {
   "cell_type": "code",
   "execution_count": 84,
   "id": "9fb3f517",
   "metadata": {},
   "outputs": [],
   "source": [
    "# 定位到课程列表\n",
    "courses[2].click()\n",
    "wait = WebDriverWait(browser, 30)"
   ]
  },
  {
   "cell_type": "code",
   "execution_count": 85,
   "id": "88ec82df",
   "metadata": {},
   "outputs": [
    {
     "name": "stderr",
     "output_type": "stream",
     "text": [
      "/Users/tianziping/anaconda3/envs/python36/lib/python3.6/site-packages/ipykernel_launcher.py:1: DeprecationWarning: use driver.switch_to.window instead\n",
      "  \"\"\"Entry point for launching an IPython kernel.\n"
     ]
    }
   ],
   "source": [
    "browser.switch_to_window(browser.window_handles[2])"
   ]
  },
  {
   "cell_type": "code",
   "execution_count": 73,
   "id": "de5f8def",
   "metadata": {},
   "outputs": [
    {
     "name": "stdout",
     "output_type": "stream",
     "text": [
      "O域系列培训1-无线网\n",
      "OSS域业务培训V3.2-无线\n",
      "O域系列培训2-数据网及宽带\n",
      "OSS域业务培训_数据网＆宽带网V3.2\n",
      "O域系列培训3-传输网\n",
      "OSS域业务培训3-传输网\n",
      "O域系列培训4-专业网管-资源\n",
      "OSS域业务培训4-专业网管-资源\n",
      "O域系列培训5-专业网管-告警监控及设备交互\n",
      "OSS域业务培训5_告警监控＆设置交互\n",
      "O域系列培训6-专业网管-性能\n",
      "OSS域业务培训-性能v1.0\n",
      "O域系列培训7-电子运维\n",
      "OSS域业务培训7-电子运维\n"
     ]
    }
   ],
   "source": [
    "scores = browser.find_elements_by_css_selector('.normalrow.clearfix .name.ellipsis .text-color6')\n",
    "for score in scores:\n",
    "    print(score.text.strip())"
   ]
  },
  {
   "cell_type": "code",
   "execution_count": 87,
   "id": "1a4deefd",
   "metadata": {},
   "outputs": [
    {
     "ename": "AttributeError",
     "evalue": "'WebElement' object has no attribute 'content'",
     "output_type": "error",
     "traceback": [
      "\u001b[0;31m---------------------------------------------------------------------------\u001b[0m",
      "\u001b[0;31mAttributeError\u001b[0m                            Traceback (most recent call last)",
      "\u001b[0;32m<ipython-input-87-8eb1d5540a42>\u001b[0m in \u001b[0;36m<module>\u001b[0;34m()\u001b[0m\n\u001b[1;32m      1\u001b[0m \u001b[0mscore\u001b[0m \u001b[0;34m=\u001b[0m \u001b[0mbrowser\u001b[0m\u001b[0;34m.\u001b[0m\u001b[0mfind_element_by_css_selector\u001b[0m\u001b[0;34m(\u001b[0m\u001b[0;34m'.score span:nth-child(2)'\u001b[0m\u001b[0;34m)\u001b[0m\u001b[0;34m\u001b[0m\u001b[0m\n\u001b[0;32m----> 2\u001b[0;31m \u001b[0mprint\u001b[0m\u001b[0;34m(\u001b[0m\u001b[0mscore\u001b[0m\u001b[0;34m.\u001b[0m\u001b[0mcontent\u001b[0m\u001b[0;34m)\u001b[0m\u001b[0;34m\u001b[0m\u001b[0m\n\u001b[0m\u001b[1;32m      3\u001b[0m \u001b[0;31m# for score in scores:\u001b[0m\u001b[0;34m\u001b[0m\u001b[0;34m\u001b[0m\u001b[0m\n\u001b[1;32m      4\u001b[0m \u001b[0;31m#     print(score.text)\u001b[0m\u001b[0;34m\u001b[0m\u001b[0;34m\u001b[0m\u001b[0m\n",
      "\u001b[0;31mAttributeError\u001b[0m: 'WebElement' object has no attribute 'content'"
     ]
    }
   ],
   "source": [
    "# 拿不到学分数据\n",
    "score = browser.find_element_by_css_selector('.score span:nth-child(2)')\n",
    "print(score.text)"
   ]
  },
  {
   "cell_type": "code",
   "execution_count": null,
   "id": "c6574ddf",
   "metadata": {},
   "outputs": [],
   "source": []
  }
 ],
 "metadata": {
  "kernelspec": {
   "display_name": "python36",
   "language": "python",
   "name": "python36"
  },
  "language_info": {
   "codemirror_mode": {
    "name": "ipython",
    "version": 3
   },
   "file_extension": ".py",
   "mimetype": "text/x-python",
   "name": "python",
   "nbconvert_exporter": "python",
   "pygments_lexer": "ipython3",
   "version": "3.6.2"
  }
 },
 "nbformat": 4,
 "nbformat_minor": 5
}
