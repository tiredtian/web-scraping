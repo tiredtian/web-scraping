{
 "cells": [
  {
   "cell_type": "code",
   "execution_count": null,
   "id": "8a4deaaa",
   "metadata": {},
   "outputs": [],
   "source": [
    "urllib"
   ]
  },
  {
   "cell_type": "code",
   "execution_count": null,
   "id": "8e619338",
   "metadata": {},
   "outputs": [],
   "source": [
    "from urllib.error import URLError\n",
    "from urllib.request import ProxyHandler, build_opener\n",
    "\n",
    "proxy = '127.0.0.1:9743'\n",
    "proxy_handler = ProxyHandler({\n",
    "    'http': 'http://' + proxy,\n",
    "    'https': 'https://' + proxy\n",
    "})\n",
    "opener = build_opener(proxy_handler)\n",
    "try:\n",
    "    response = opener.open('http://httpbin.org/get')\n",
    "    print(response.read().decode('utf-8'))\n",
    "except URLError as e:\n",
    "    print(e.reason)"
   ]
  },
  {
   "cell_type": "markdown",
   "id": "edaeb0c3",
   "metadata": {},
   "source": [
    "认证代理，修改username，password"
   ]
  },
  {
   "cell_type": "code",
   "execution_count": null,
   "id": "02ee03b3",
   "metadata": {},
   "outputs": [],
   "source": [
    "from urllib.error import URLError\n",
    "from urllib.request import ProxyHandler, build_opener\n",
    "\n",
    "proxy = 'username:password@127.0.0.1:9743'\n",
    "proxy_handler = ProxyHandler({\n",
    "    'http': 'http://' + proxy,\n",
    "    'https': 'https://' + proxy\n",
    "})\n",
    "opener = build_opener(proxy_handler)\n",
    "try:\n",
    "    response = opener.open('http://httpbin.org/get')\n",
    "    print(response.read().decode('utf-8'))\n",
    "except URLError as e:\n",
    "    print(e.reason)"
   ]
  },
  {
   "cell_type": "markdown",
   "id": "68e2cb46",
   "metadata": {},
   "source": [
    "requests"
   ]
  },
  {
   "cell_type": "code",
   "execution_count": null,
   "id": "ade410af",
   "metadata": {},
   "outputs": [],
   "source": [
    "import requests\n",
    "\n",
    "proxy = '127.0.0.1:9743'\n",
    "# proxy = 'username:password@127.0.0.1:9743'\n",
    "proxies = {\n",
    "    'http': 'http://' + proxy,\n",
    "    'https': 'https://' + proxy,\n",
    "}\n",
    "try:\n",
    "    response = requests.get('http://httpbin.org/get', proxies=proxies)\n",
    "    print(response.text)\n",
    "except requests.exceptions.ConnectionError as e:\n",
    "    print('Error', e.args)"
   ]
  },
  {
   "cell_type": "markdown",
   "id": "3be8d1e4",
   "metadata": {},
   "source": [
    "selenium"
   ]
  },
  {
   "cell_type": "code",
   "execution_count": null,
   "id": "2a998c73",
   "metadata": {},
   "outputs": [],
   "source": [
    "from selenium import webdriver\n",
    "\n",
    "proxy = '127.0.0.1:9743'\n",
    "chrome_options = webdriver.ChromeOptions()\n",
    "chrome_options.add_argument('--proxy-server=http://' + proxy)\n",
    "browser = webdriver.Chrome(chrome_options=chrome_options)\n",
    "browser.get('http://httpbin.org/get')"
   ]
  },
  {
   "cell_type": "markdown",
   "id": "4e9deaaa",
   "metadata": {},
   "source": [
    "认证代理"
   ]
  },
  {
   "cell_type": "code",
   "execution_count": null,
   "id": "fa5e8c2a",
   "metadata": {},
   "outputs": [],
   "source": [
    "from selenium import webdriver\n",
    "from selenium.webdriver.chrome.options import Options\n",
    "import zipfile\n",
    "\n",
    "ip = '127.0.0.1'\n",
    "port = 9743\n",
    "username = 'foo'\n",
    "password = 'bar'\n",
    "\n",
    "manifest_json = \"\"\"{\"version\":\"1.0.0\",\"manifest_version\": 2,\"name\":\"Chrome Proxy\",\"permissions\": [\"proxy\",\"tabs\",\"unlimitedStorage\",\"storage\",\"<all_urls>\",\"webRequest\",\"webRequestBlocking\"],\"background\": {\"scripts\": [\"background.js\"]\n",
    "    }\n",
    "}\n",
    "\"\"\"background_js =\"\"\"\n",
    "var config = {\n",
    "        mode: \"fixed_servers\",\n",
    "        rules: {\n",
    "          singleProxy: {\n",
    "            scheme: \"http\",\n",
    "            host: \"%(ip) s\",\n",
    "            port: %(port) s\n",
    "          }\n",
    "        }\n",
    "      }\n",
    "\n",
    "chrome.proxy.settings.set({value: config, scope: \"regular\"}, function() {});\n",
    "\n",
    "function callbackFn(details) {\n",
    "    return {\n",
    "        authCredentials: {username: \"%(username) s\",\n",
    "            password: \"%(password) s\"\n",
    "        }\n",
    "    }\n",
    "}\n",
    "\n",
    "chrome.webRequest.onAuthRequired.addListener(\n",
    "            callbackFn,\n",
    "            {urls: [\"<all_urls>\"]},\n",
    "            ['blocking']\n",
    ")\n",
    "\"\"\" % {'ip': ip, 'port': port, 'username': username, 'password': password}\n",
    "\n",
    "plugin_file = 'proxy_auth_plugin.zip'\n",
    "with zipfile.ZipFile(plugin_file, 'w') as zp:\n",
    "    zp.writestr(\"manifest.json\", manifest_json)\n",
    "    zp.writestr(\"background.js\", background_js)\n",
    "chrome_options = Options()\n",
    "chrome_options.add_argument(\"--start-maximized\")\n",
    "chrome_options.add_extension(plugin_file)\n",
    "browser = webdriver.Chrome(chrome_options=chrome_options)\n",
    "browser.get('http://httpbin.org/get')"
   ]
  }
 ],
 "metadata": {
  "kernelspec": {
   "display_name": "python36",
   "language": "python",
   "name": "python36"
  }
 },
 "nbformat": 4,
 "nbformat_minor": 5
}
