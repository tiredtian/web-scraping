{
 "cells": [
  {
   "cell_type": "code",
   "execution_count": 5,
   "id": "a6a9e080",
   "metadata": {},
   "outputs": [],
   "source": [
    "import lxml\n",
    "import pyquery\n",
    "from bs4 import BeautifulSoup  \n",
    "import requests\n",
    "import aiohttp\n",
    "import selenium"
   ]
  },
  {
   "cell_type": "code",
   "execution_count": 8,
   "id": "f9dec5f0",
   "metadata": {},
   "outputs": [
    {
     "name": "stdout",
     "output_type": "stream",
     "text": [
      "Python3WebSpider\n",
      "\n"
     ]
    }
   ],
   "source": [
    "import tesserocr  \n",
    "from PIL import Image  \n",
    "image = Image.open('image.png')  \n",
    "print(tesserocr.image_to_text(image))"
   ]
  },
  {
   "cell_type": "code",
   "execution_count": null,
   "id": "4b08a893",
   "metadata": {},
   "outputs": [
    {
     "name": "stderr",
     "output_type": "stream",
     "text": [
      " * Running on http://127.0.0.1:5000/ (Press CTRL+C to quit)\n",
      "127.0.0.1 - - [10/Jul/2023 14:19:35] \"GET / HTTP/1.1\" 200 -\n",
      "127.0.0.1 - - [10/Jul/2023 14:19:35] \"GET /favicon.ico HTTP/1.1\" 404 -\n",
      "127.0.0.1 - - [10/Jul/2023 14:19:45] \"GET / HTTP/1.1\" 200 -\n",
      "127.0.0.1 - - [10/Jul/2023 14:20:04] \"GET / HTTP/1.1\" 200 -\n"
     ]
    }
   ],
   "source": [
    "from flask import Flask\n",
    "app = Flask(__name__)\n",
    "\n",
    "@app.route(\"/\")\n",
    "def hello():\n",
    "    return \"Hello World!\"\n",
    "\n",
    "if __name__ == \"__main__\":\n",
    "    app.run()"
   ]
  },
  {
   "cell_type": "code",
   "execution_count": null,
   "id": "ca1ff32f",
   "metadata": {},
   "outputs": [],
   "source": []
  }
 ],
 "metadata": {
  "kernelspec": {
   "display_name": "python36",
   "language": "python",
   "name": "python36"
  },
  "language_info": {
   "codemirror_mode": {
    "name": "ipython",
    "version": 3
   },
   "file_extension": ".py",
   "mimetype": "text/x-python",
   "name": "python",
   "nbconvert_exporter": "python",
   "pygments_lexer": "ipython3",
   "version": "3.6.2"
  }
 },
 "nbformat": 4,
 "nbformat_minor": 5
}
