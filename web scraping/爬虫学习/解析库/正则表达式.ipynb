{
 "cells": [
  {
   "cell_type": "code",
   "execution_count": 2,
   "id": "3894eadd",
   "metadata": {},
   "outputs": [
    {
     "name": "stdout",
     "output_type": "stream",
     "text": [
      "41\n",
      "<_sre.SRE_Match object; span=(0, 25), match='Hello 123 4567 World_This'>\n",
      "Hello 123 4567 World_This\n",
      "(0, 25)\n"
     ]
    }
   ],
   "source": [
    "import re\n",
    "\n",
    "content = 'Hello 123 4567 World_This is a Regex Demo'\n",
    "print(len(content))\n",
    "result = re.match('^Hello\\s\\d\\d\\d\\s\\d{4}\\s\\w{10}', content)\n",
    "print(result)\n",
    "print(result.group())\n",
    "print(result.span())"
   ]
  },
  {
   "cell_type": "markdown",
   "id": "4d8f6020",
   "metadata": {},
   "source": [
    "()标记子表达式"
   ]
  },
  {
   "cell_type": "code",
   "execution_count": 5,
   "id": "a46d8b0d",
   "metadata": {
    "scrolled": true
   },
   "outputs": [
    {
     "name": "stdout",
     "output_type": "stream",
     "text": [
      "<_sre.SRE_Match object; span=(0, 19), match='Hello 1234567 World'>\n",
      "Hello 1234567 World\n",
      "1234567\n",
      "(0, 19)\n"
     ]
    }
   ],
   "source": [
    "import re\n",
    "\n",
    "content = 'Hello 1234567 World_This is a Regex Demo'\n",
    "result = re.match('^Hello\\s(\\d+)\\sWorld', content)\n",
    "print(result)\n",
    "print(result.group())\n",
    "print(result.group(1))\n",
    "print(result.span())"
   ]
  },
  {
   "cell_type": "markdown",
   "id": "a2579730",
   "metadata": {},
   "source": [
    "通用匹配"
   ]
  },
  {
   "cell_type": "code",
   "execution_count": 6,
   "id": "630be027",
   "metadata": {},
   "outputs": [
    {
     "name": "stdout",
     "output_type": "stream",
     "text": [
      "<_sre.SRE_Match object; span=(0, 41), match='Hello 123 4567 World_This is a Regex Demo'>\n",
      "Hello 123 4567 World_This is a Regex Demo\n",
      "(0, 41)\n"
     ]
    }
   ],
   "source": [
    "import re\n",
    "\n",
    "content = 'Hello 123 4567 World_This is a Regex Demo'\n",
    "result = re.match('^Hello.*Demo$', content)\n",
    "print(result)\n",
    "print(result.group())\n",
    "print(result.span())"
   ]
  },
  {
   "cell_type": "markdown",
   "id": "e42c026a",
   "metadata": {},
   "source": [
    "贪婪匹配和非贪婪撇匹配"
   ]
  },
  {
   "cell_type": "code",
   "execution_count": 16,
   "id": "39bff174",
   "metadata": {},
   "outputs": [
    {
     "name": "stdout",
     "output_type": "stream",
     "text": [
      "<_sre.SRE_Match object; span=(0, 40), match='Hello 1234567 World_This is a Regex Demo'>\n",
      "7\n"
     ]
    }
   ],
   "source": [
    "import re\n",
    "\n",
    "content = 'Hello 1234567 World_This is a Regex Demo'\n",
    "result = re.match('^He.*(\\d+).*Demo$', content)\n",
    "print(result)\n",
    "print(result.group(1))"
   ]
  },
  {
   "cell_type": "code",
   "execution_count": 17,
   "id": "8a62046f",
   "metadata": {},
   "outputs": [
    {
     "name": "stdout",
     "output_type": "stream",
     "text": [
      "<_sre.SRE_Match object; span=(0, 40), match='Hello 1234567 World_This is a Regex Demo'>\n",
      "1234567\n"
     ]
    }
   ],
   "source": [
    "import re\n",
    "\n",
    "content = 'Hello 1234567 World_This is a Regex Demo'\n",
    "result = re.match('^He.*?(\\d+).*Demo$', content)\n",
    "print(result)\n",
    "print(result.group(1))"
   ]
  },
  {
   "cell_type": "markdown",
   "id": "a57990da",
   "metadata": {},
   "source": [
    "修饰符"
   ]
  },
  {
   "cell_type": "code",
   "execution_count": 19,
   "id": "43057ac5",
   "metadata": {},
   "outputs": [
    {
     "name": "stdout",
     "output_type": "stream",
     "text": [
      "1234567\n"
     ]
    }
   ],
   "source": [
    "import re\n",
    "\n",
    "content = '''Hello 1234567 World_This\n",
    "is a Regex Demo\n",
    "'''\n",
    "result = re.match('^He.*?(\\d+).*?Demo$', content,re.S)\n",
    "print(result.group(1))"
   ]
  },
  {
   "cell_type": "code",
   "execution_count": null,
   "id": "197d66ec",
   "metadata": {},
   "outputs": [],
   "source": [
    "转义匹配"
   ]
  },
  {
   "cell_type": "code",
   "execution_count": 25,
   "id": "d5eba5aa",
   "metadata": {},
   "outputs": [
    {
     "name": "stdout",
     "output_type": "stream",
     "text": [
      "<_sre.SRE_Match object; span=(0, 18), match='(百度) www.baidu.com'>\n"
     ]
    }
   ],
   "source": [
    "import re\n",
    "\n",
    "content = '(百度) www.baidu.com'\n",
    "result = re.match('\\(百度\\) www\\.baidu\\.com', content)\n",
    "print(result)"
   ]
  },
  {
   "cell_type": "code",
   "execution_count": null,
   "id": "b535ec39",
   "metadata": {},
   "outputs": [],
   "source": [
    "match从字符串开头进行匹配开头不匹配没有结果，search扫描整个字符串"
   ]
  },
  {
   "cell_type": "code",
   "execution_count": 29,
   "id": "07f91b64",
   "metadata": {},
   "outputs": [
    {
     "name": "stdout",
     "output_type": "stream",
     "text": [
      "<_sre.SRE_Match object; span=(5, 18), match='www.baidu.com'>\n"
     ]
    }
   ],
   "source": [
    "import re\n",
    "\n",
    "content = '(百度) www.baidu.com'\n",
    "result = re.search('www\\.baidu\\.com', content)\n",
    "print(result)"
   ]
  },
  {
   "cell_type": "markdown",
   "id": "2feb5fff",
   "metadata": {},
   "source": [
    "search只匹配html中第一个符合正则表达式的实例"
   ]
  },
  {
   "cell_type": "code",
   "execution_count": 31,
   "id": "49b693d9",
   "metadata": {},
   "outputs": [],
   "source": [
    "html = '''<div id=\"songs-list\">\n",
    "<h2 class=\"title\"> 经典老歌 </h2>\n",
    "<p class=\"introduction\">\n",
    "经典老歌列表\n",
    "</p>\n",
    "<ul id=\"list\" class=\"list-group\">\n",
    "<li data-view=\"2\"> 一路上有你 </li>\n",
    "<li data-view=\"7\">\n",
    "<a href=\"/2.mp3\" singer=\"任贤齐\"> 沧海一声笑 </a>\n",
    "</li>\n",
    "<li data-view=\"4\" class=\"active\">\n",
    "<a href=\"/3.mp3\" singer=\"齐秦\"> 往事随风 </a>\n",
    "</li>\n",
    "<li data-view=\"6\"><a href=\"/4.mp3\" singer=\"beyond\"> 光辉岁月 </a></li>\n",
    "<li data-view=\"5\"><a href=\"/5.mp3\" singer=\"陈慧琳\"> 记事本 </a></li>\n",
    "<li data-view=\"5\">\n",
    "<a href=\"/6.mp3\" singer=\"邓丽君\"> 但愿人长久 </a>\n",
    "</li>\n",
    "</ul>\n",
    "</div>'''"
   ]
  },
  {
   "cell_type": "code",
   "execution_count": 32,
   "id": "610d48f8",
   "metadata": {},
   "outputs": [
    {
     "name": "stdout",
     "output_type": "stream",
     "text": [
      "齐秦  往事随风 \n"
     ]
    }
   ],
   "source": [
    "result = re.search('<li.*?active.*?singer=\"(.*?)\">(.*?)</a>', html, re.S) \n",
    "if result:  \n",
    "    print(result.group(1), result.group(2))"
   ]
  },
  {
   "cell_type": "markdown",
   "id": "49ae623d",
   "metadata": {},
   "source": [
    "findall返回匹配正则表达式的所有实例"
   ]
  },
  {
   "cell_type": "code",
   "execution_count": 33,
   "id": "d073ff5d",
   "metadata": {},
   "outputs": [
    {
     "name": "stdout",
     "output_type": "stream",
     "text": [
      "[('/2.mp3', '任贤齐', ' 沧海一声笑 '), ('/3.mp3', '齐秦', ' 往事随风 '), ('/4.mp3', 'beyond', ' 光辉岁月 '), ('/5.mp3', '陈慧琳', ' 记事本 '), ('/6.mp3', '邓丽君', ' 但愿人长久 ')]\n",
      "<class 'list'>\n",
      "('/2.mp3', '任贤齐', ' 沧海一声笑 ')\n",
      "/2.mp3 任贤齐  沧海一声笑 \n",
      "('/3.mp3', '齐秦', ' 往事随风 ')\n",
      "/3.mp3 齐秦  往事随风 \n",
      "('/4.mp3', 'beyond', ' 光辉岁月 ')\n",
      "/4.mp3 beyond  光辉岁月 \n",
      "('/5.mp3', '陈慧琳', ' 记事本 ')\n",
      "/5.mp3 陈慧琳  记事本 \n",
      "('/6.mp3', '邓丽君', ' 但愿人长久 ')\n",
      "/6.mp3 邓丽君  但愿人长久 \n"
     ]
    }
   ],
   "source": [
    "results = re.findall('<li.*?href=\"(.*?)\".*?singer=\"(.*?)\">(.*?)</a>', html, re.S)\n",
    "print(results)  \n",
    "print(type(results))  \n",
    "for result in results:  \n",
    "    print(result)  \n",
    "    print(result[0], result[1], result[2])"
   ]
  },
  {
   "cell_type": "code",
   "execution_count": null,
   "id": "cef4f4f5",
   "metadata": {},
   "outputs": [],
   "source": [
    "正则表达式修改文本"
   ]
  },
  {
   "cell_type": "code",
   "execution_count": 34,
   "id": "96795987",
   "metadata": {},
   "outputs": [
    {
     "name": "stdout",
     "output_type": "stream",
     "text": [
      "aKyroiRixLg\n"
     ]
    }
   ],
   "source": [
    "import re\n",
    "\n",
    "content = '54aK54yr5oiR54ix5L2g'\n",
    "content = re.sub('\\d+', '', content)\n",
    "print(content)"
   ]
  },
  {
   "cell_type": "code",
   "execution_count": 35,
   "id": "8d3cd2cc",
   "metadata": {},
   "outputs": [
    {
     "name": "stdout",
     "output_type": "stream",
     "text": [
      "<div id=\"songs-list\">\n",
      "<h2 class=\"title\"> 经典老歌 </h2>\n",
      "<p class=\"introduction\">\n",
      "经典老歌列表\n",
      "</p>\n",
      "<ul id=\"list\" class=\"list-group\">\n",
      "<li data-view=\"2\"> 一路上有你 </li>\n",
      "<li data-view=\"7\">\n",
      " 沧海一声笑 \n",
      "</li>\n",
      "<li data-view=\"4\" class=\"active\">\n",
      " 往事随风 \n",
      "</li>\n",
      "<li data-view=\"6\"> 光辉岁月 </li>\n",
      "<li data-view=\"5\"> 记事本 </li>\n",
      "<li data-view=\"5\">\n",
      " 但愿人长久 \n",
      "</li>\n",
      "</ul>\n",
      "</div>\n",
      "一路上有你\n",
      "沧海一声笑\n",
      "往事随风\n",
      "光辉岁月\n",
      "记事本\n",
      "但愿人长久\n"
     ]
    }
   ],
   "source": [
    "html = re.sub('<a.*?>|</a>', '', html)\n",
    "print(html)\n",
    "results = re.findall('<li.*?>(.*?)</li>', html, re.S)\n",
    "for result in results:\n",
    "    print(result.strip())"
   ]
  },
  {
   "cell_type": "markdown",
   "id": "c4c5ecdd",
   "metadata": {},
   "source": [
    "正则字符串编译成正则表达式对象"
   ]
  },
  {
   "cell_type": "code",
   "execution_count": 36,
   "id": "f41eb7fc",
   "metadata": {},
   "outputs": [
    {
     "name": "stdout",
     "output_type": "stream",
     "text": [
      "2016-12-15  2016-12-17  2016-12-22 \n"
     ]
    }
   ],
   "source": [
    "import re\n",
    "\n",
    "content1 = '2016-12-15 12:00'\n",
    "content2 = '2016-12-17 12:55'\n",
    "content3 = '2016-12-22 13:21'\n",
    "pattern = re.compile('\\d{2}:\\d{2}')\n",
    "result1 = re.sub(pattern, '', content1)\n",
    "result2 = re.sub(pattern, '', content2)\n",
    "result3 = re.sub(pattern, '', content3)\n",
    "print(result1, result2, result3)"
   ]
  },
  {
   "cell_type": "code",
   "execution_count": null,
   "id": "80f99a9c",
   "metadata": {},
   "outputs": [],
   "source": []
  }
 ],
 "metadata": {
  "kernelspec": {
   "display_name": "python36",
   "language": "python",
   "name": "python36"
  },
  "language_info": {
   "codemirror_mode": {
    "name": "ipython",
    "version": 3
   },
   "file_extension": ".py",
   "mimetype": "text/x-python",
   "name": "python",
   "nbconvert_exporter": "python",
   "pygments_lexer": "ipython3",
   "version": "3.6.2"
  }
 },
 "nbformat": 4,
 "nbformat_minor": 5
}
