{
 "cells": [
  {
   "cell_type": "code",
   "execution_count": null,
   "id": "ce424621",
   "metadata": {},
   "outputs": [],
   "source": [
    "XPath XML Path language xml路径语言，在xml和html文档中查询信息的语言"
   ]
  },
  {
   "cell_type": "code",
   "execution_count": 3,
   "id": "5d705dee",
   "metadata": {},
   "outputs": [],
   "source": [
    "from lxml import etree"
   ]
  },
  {
   "cell_type": "markdown",
   "id": "1395c319",
   "metadata": {},
   "source": [
    "lxml自动修正html"
   ]
  },
  {
   "cell_type": "code",
   "execution_count": 4,
   "id": "32c48c23",
   "metadata": {},
   "outputs": [
    {
     "name": "stdout",
     "output_type": "stream",
     "text": [
      "<html><body><div>\n",
      "    <ul>\n",
      "         <li class=\"item-0\"><a href=\"link1.html\">first item</a></li>\n",
      "         <li class=\"item-1\"><a href=\"link2.html\">second item</a></li>\n",
      "         <li class=\"item-inactive\"><a href=\"link3.html\">third item</a></li>\n",
      "         <li class=\"item-1\"><a href=\"link4.html\">fourth item</a></li>\n",
      "         <li class=\"item-0\"><a href=\"link5.html\">fifth item</a>\n",
      "     </li></ul>\n",
      " </div>\n",
      "</body></html>\n"
     ]
    }
   ],
   "source": [
    "text = '''\n",
    "<div>\n",
    "    <ul>\n",
    "         <li class=\"item-0\"><a href=\"link1.html\">first item</a></li>\n",
    "         <li class=\"item-1\"><a href=\"link2.html\">second item</a></li>\n",
    "         <li class=\"item-inactive\"><a href=\"link3.html\">third item</a></li>\n",
    "         <li class=\"item-1\"><a href=\"link4.html\">fourth item</a></li>\n",
    "         <li class=\"item-0\"><a href=\"link5.html\">fifth item</a>\n",
    "     </ul>\n",
    " </div>\n",
    "'''\n",
    "\n",
    "# 构造xpath解析对象\n",
    "html = etree.HTML(text)\n",
    "result = etree.tostring(html)\n",
    "print(result.decode('utf-8'))"
   ]
  },
  {
   "cell_type": "markdown",
   "id": "ce7badf2",
   "metadata": {},
   "source": [
    "读取html文件解析"
   ]
  },
  {
   "cell_type": "code",
   "execution_count": 8,
   "id": "caaa0b37",
   "metadata": {},
   "outputs": [
    {
     "name": "stdout",
     "output_type": "stream",
     "text": [
      "<!DOCTYPE html PUBLIC \"-//W3C//DTD HTML 4.0 Transitional//EN\" \"http://www.w3.org/TR/REC-html40/loose.dtd\">\n",
      "<html><body><div>\n",
      "    <ul>\n",
      "         <li class=\"item-0\"><a href=\"link1.html\">first item</a></li>\n",
      "         <li class=\"item-1\"><a href=\"link2.html\">second item</a></li>\n",
      "         <li class=\"item-inactive\"><a href=\"link3.html\">third item</a></li>\n",
      "         <li class=\"item-1\"><a href=\"link4.html\">fourth item</a></li>\n",
      "         <li class=\"item-0\"><a href=\"link5.html\">fifth item</a>\n",
      "     </li></ul>\n",
      " </div></body></html>\n"
     ]
    }
   ],
   "source": [
    "from lxml import etree\n",
    "\n",
    "html = etree.parse('./test.html', etree.HTMLParser())\n",
    "result = etree.tostring(html)\n",
    "print(result.decode('utf-8'))"
   ]
  },
  {
   "cell_type": "markdown",
   "id": "b7b0bcf3",
   "metadata": {},
   "source": [
    "提取所有节点"
   ]
  },
  {
   "cell_type": "code",
   "execution_count": 9,
   "id": "4730ea76",
   "metadata": {},
   "outputs": [
    {
     "name": "stdout",
     "output_type": "stream",
     "text": [
      "[<Element html at 0x7f7fb0062908>, <Element body at 0x7f7fb0018688>, <Element div at 0x7f7fb0062c08>, <Element ul at 0x7f7fb0062a08>, <Element li at 0x7f7fb0062348>, <Element a at 0x7f7fb0062b88>, <Element li at 0x7f7fb00624c8>, <Element a at 0x7f7fb0062e08>, <Element li at 0x7f7fb0062c88>, <Element a at 0x7f7fb0062cc8>, <Element li at 0x7f7fb00626c8>, <Element a at 0x7f7fb0062508>, <Element li at 0x7f7fb0062bc8>, <Element a at 0x7f7fe0bfde08>]\n"
     ]
    }
   ],
   "source": [
    "from lxml import etree\n",
    "html = etree.parse('./test.html', etree.HTMLParser())\n",
    "result = html.xpath('//*')\n",
    "print(result)"
   ]
  },
  {
   "cell_type": "markdown",
   "id": "402eda53",
   "metadata": {},
   "source": [
    "提取子节点"
   ]
  },
  {
   "cell_type": "code",
   "execution_count": 10,
   "id": "4f83e626",
   "metadata": {},
   "outputs": [
    {
     "name": "stdout",
     "output_type": "stream",
     "text": [
      "[<Element a at 0x7f7fc00a3c08>, <Element a at 0x7f7fc00a3c48>, <Element a at 0x7f7fc00a3108>, <Element a at 0x7f7fc00a3088>, <Element a at 0x7f7fc00a3448>]\n"
     ]
    }
   ],
   "source": [
    "from lxml import etree\n",
    "\n",
    "html = etree.parse('./test.html', etree.HTMLParser())\n",
    "result = html.xpath('//li/a')\n",
    "print(result)"
   ]
  },
  {
   "cell_type": "markdown",
   "id": "6bf485dd",
   "metadata": {},
   "source": [
    "提取父节点"
   ]
  },
  {
   "cell_type": "code",
   "execution_count": 11,
   "id": "92333a84",
   "metadata": {},
   "outputs": [
    {
     "name": "stdout",
     "output_type": "stream",
     "text": [
      "['item-1']\n"
     ]
    }
   ],
   "source": [
    "from lxml import etree  \n",
    "\n",
    "html = etree.parse('./test.html', etree.HTMLParser())  \n",
    "result = html.xpath('//a[@href=\"link4.html\"]/../@class')  \n",
    "print(result)"
   ]
  },
  {
   "cell_type": "code",
   "execution_count": 12,
   "id": "27ee1794",
   "metadata": {},
   "outputs": [
    {
     "name": "stdout",
     "output_type": "stream",
     "text": [
      "['item-1']\n"
     ]
    }
   ],
   "source": [
    "from lxml import etree  \n",
    "html = etree.parse('./test.html', etree.HTMLParser())  \n",
    "result = html.xpath('//a[@href=\"link4.html\"]/parent::*/@class')  \n",
    "print(result)"
   ]
  },
  {
   "cell_type": "markdown",
   "id": "5e6d4a7d",
   "metadata": {},
   "source": [
    "属性匹配"
   ]
  },
  {
   "cell_type": "code",
   "execution_count": 13,
   "id": "70bea53d",
   "metadata": {},
   "outputs": [
    {
     "name": "stdout",
     "output_type": "stream",
     "text": [
      "[<Element li at 0x7f7fa0086148>, <Element li at 0x7f7fc00a9e08>]\n"
     ]
    }
   ],
   "source": [
    "from lxml import etree  \n",
    "html = etree.parse('./test.html', etree.HTMLParser())  \n",
    "result = html.xpath('//li[@class=\"item-0\"]')  \n",
    "print(result)"
   ]
  },
  {
   "cell_type": "markdown",
   "id": "5e0c3eaf",
   "metadata": {},
   "source": [
    "提取子节点文本"
   ]
  },
  {
   "cell_type": "code",
   "execution_count": 14,
   "id": "0566fe7a",
   "metadata": {},
   "outputs": [
    {
     "name": "stdout",
     "output_type": "stream",
     "text": [
      "['\\n     ']\n"
     ]
    }
   ],
   "source": [
    "from lxml import etree  \n",
    "\n",
    "html = etree.parse('./test.html', etree.HTMLParser())  \n",
    "result = html.xpath('//li[@class=\"item-0\"]/text()')  \n",
    "print(result)"
   ]
  },
  {
   "cell_type": "code",
   "execution_count": 15,
   "id": "27522792",
   "metadata": {},
   "outputs": [
    {
     "name": "stdout",
     "output_type": "stream",
     "text": [
      "['first item', 'fifth item']\n"
     ]
    }
   ],
   "source": [
    "from lxml import etree  \n",
    "html = etree.parse('./test.html', etree.HTMLParser())  \n",
    "result = html.xpath('//li[@class=\"item-0\"]/a/text()')  \n",
    "print(result)"
   ]
  },
  {
   "cell_type": "code",
   "execution_count": 16,
   "id": "9e52028d",
   "metadata": {},
   "outputs": [
    {
     "name": "stdout",
     "output_type": "stream",
     "text": [
      "['first item', 'fifth item', '\\n     ']\n"
     ]
    }
   ],
   "source": [
    "from lxml import etree  \n",
    "\n",
    "html = etree.parse('./test.html', etree.HTMLParser())  \n",
    "result = html.xpath('//li[@class=\"item-0\"]//text()')  \n",
    "print(result)"
   ]
  },
  {
   "cell_type": "markdown",
   "id": "1959a45e",
   "metadata": {},
   "source": [
    "属性提取"
   ]
  },
  {
   "cell_type": "code",
   "execution_count": 17,
   "id": "3d6a7ad6",
   "metadata": {},
   "outputs": [
    {
     "name": "stdout",
     "output_type": "stream",
     "text": [
      "['link1.html', 'link2.html', 'link3.html', 'link4.html', 'link5.html']\n"
     ]
    }
   ],
   "source": [
    "from lxml import etree  \n",
    "\n",
    "html = etree.parse('./test.html', etree.HTMLParser())  \n",
    "result = html.xpath('//li/a/@href')  \n",
    "print(result)"
   ]
  },
  {
   "cell_type": "markdown",
   "id": "d9ece7ab",
   "metadata": {},
   "source": [
    "属性多值匹配"
   ]
  },
  {
   "cell_type": "code",
   "execution_count": 18,
   "id": "b72de121",
   "metadata": {},
   "outputs": [
    {
     "name": "stdout",
     "output_type": "stream",
     "text": [
      "['first item']\n"
     ]
    }
   ],
   "source": [
    "from lxml import etree  \n",
    "text = '''  \n",
    "<li class=\"li li-first\"><a href=\"link.html\">first item</a></li>  \n",
    "'''  \n",
    "html = etree.HTML(text)  \n",
    "result = html.xpath('//li[contains(@class, \"li\")]/a/text()')  \n",
    "print(result)"
   ]
  },
  {
   "cell_type": "markdown",
   "id": "74242478",
   "metadata": {},
   "source": [
    "多属性匹配"
   ]
  },
  {
   "cell_type": "code",
   "execution_count": 19,
   "id": "9bc57756",
   "metadata": {},
   "outputs": [
    {
     "name": "stdout",
     "output_type": "stream",
     "text": [
      "['first item']\n"
     ]
    }
   ],
   "source": [
    "from lxml import etree  \n",
    "text = '''  \n",
    "<li class=\"li li-first\" name=\"item\"><a href=\"link.html\">first item</a></li>\n",
    "'''  \n",
    "html = etree.HTML(text)  \n",
    "result = html.xpath('//li[contains(@class, \"li\") and @name=\"item\"]/a/text()')  \n",
    "print(result)"
   ]
  },
  {
   "cell_type": "markdown",
   "id": "bf041b85",
   "metadata": {},
   "source": [
    "按序选择-从1开始"
   ]
  },
  {
   "cell_type": "code",
   "execution_count": 20,
   "id": "38752e2b",
   "metadata": {},
   "outputs": [
    {
     "name": "stdout",
     "output_type": "stream",
     "text": [
      "['first item']\n",
      "['fifth item']\n",
      "['first item', 'second item']\n",
      "['third item']\n"
     ]
    }
   ],
   "source": [
    "from lxml import etree\n",
    "\n",
    "text = '''\n",
    "<div>\n",
    "    <ul>\n",
    "         <li class=\"item-0\"><a href=\"link1.html\">first item</a></li>\n",
    "         <li class=\"item-1\"><a href=\"link2.html\">second item</a></li>\n",
    "         <li class=\"item-inactive\"><a href=\"link3.html\">third item</a></li>\n",
    "         <li class=\"item-1\"><a href=\"link4.html\">fourth item</a></li>\n",
    "         <li class=\"item-0\"><a href=\"link5.html\">fifth item</a>\n",
    "     </ul>\n",
    " </div>\n",
    "'''\n",
    "html = etree.HTML(text)\n",
    "result = html.xpath('//li[1]/a/text()')\n",
    "print(result)\n",
    "result = html.xpath('//li[last()]/a/text()')\n",
    "print(result)\n",
    "result = html.xpath('//li[position()<3]/a/text()')\n",
    "print(result)\n",
    "result = html.xpath('//li[last()-2]/a/text()')\n",
    "print(result)"
   ]
  },
  {
   "cell_type": "markdown",
   "id": "60d145ec",
   "metadata": {},
   "source": [
    "节点轴选择"
   ]
  },
  {
   "cell_type": "code",
   "execution_count": 21,
   "id": "3c47bf92",
   "metadata": {},
   "outputs": [
    {
     "name": "stdout",
     "output_type": "stream",
     "text": [
      "[<Element html at 0x7f7fc00a9908>, <Element body at 0x7f7fa80d5388>, <Element div at 0x7f7fa80d5a08>, <Element ul at 0x7f7fa80d5c88>]\n",
      "[<Element div at 0x7f7fa80d5a08>]\n",
      "['item-0']\n",
      "[<Element a at 0x7f7fa80d5a08>]\n",
      "[<Element span at 0x7f7fa80d5e08>]\n",
      "[<Element a at 0x7f7fa80d5a08>]\n",
      "[<Element li at 0x7f7fa80d5d88>, <Element li at 0x7f7fa80d5c88>, <Element li at 0x7f7fa80d5f88>, <Element li at 0x7f7fa00a38c8>]\n"
     ]
    }
   ],
   "source": [
    "from lxml import etree\n",
    "\n",
    "text = '''\n",
    "<div>\n",
    "    <ul>\n",
    "         <li class=\"item-0\"><a href=\"link1.html\"><span>first item</span></a></li>\n",
    "         <li class=\"item-1\"><a href=\"link2.html\">second item</a></li>\n",
    "         <li class=\"item-inactive\"><a href=\"link3.html\">third item</a></li>\n",
    "         <li class=\"item-1\"><a href=\"link4.html\">fourth item</a></li>\n",
    "         <li class=\"item-0\"><a href=\"link5.html\">fifth item</a>\n",
    "     </ul>\n",
    " </div>\n",
    "'''\n",
    "html = etree.HTML(text)\n",
    "result = html.xpath('//li[1]/ancestor::*')\n",
    "print(result)\n",
    "result = html.xpath('//li[1]/ancestor::div')\n",
    "print(result)\n",
    "result = html.xpath('//li[1]/attribute::*')\n",
    "print(result)\n",
    "result = html.xpath('//li[1]/child::a[@href=\"link1.html\"]')\n",
    "print(result)\n",
    "result = html.xpath('//li[1]/descendant::span')\n",
    "print(result)\n",
    "result = html.xpath('//li[1]/following::*[2]')\n",
    "print(result)\n",
    "result = html.xpath('//li[1]/following-sibling::*')\n",
    "print(result)"
   ]
  },
  {
   "cell_type": "code",
   "execution_count": null,
   "id": "9fd04d20",
   "metadata": {},
   "outputs": [],
   "source": []
  }
 ],
 "metadata": {
  "kernelspec": {
   "display_name": "python36",
   "language": "python",
   "name": "python36"
  }
 },
 "nbformat": 4,
 "nbformat_minor": 5
}
