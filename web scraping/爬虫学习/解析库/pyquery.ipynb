{
 "cells": [
  {
   "cell_type": "markdown",
   "id": "bc0f55c9",
   "metadata": {},
   "source": [
    "pyquery解析库"
   ]
  },
  {
   "cell_type": "markdown",
   "id": "3b39cba4",
   "metadata": {},
   "source": [
    "pyquery初始化方法：字符串/url/文档"
   ]
  },
  {
   "cell_type": "code",
   "execution_count": 2,
   "id": "ae81e51a",
   "metadata": {},
   "outputs": [
    {
     "name": "stdout",
     "output_type": "stream",
     "text": [
      "<li class=\"item-0\">first item</li>\n",
      "         <li class=\"item-1\"><a href=\"link2.html\">second item</a></li>\n",
      "         <li class=\"item-0 active\"><a href=\"link3.html\"><span class=\"bold\">third item</span></a></li>\n",
      "         <li class=\"item-1 active\"><a href=\"link4.html\">fourth item</a></li>\n",
      "         <li class=\"item-0\"><a href=\"link5.html\">fifth item</a></li>\n",
      "     \n"
     ]
    }
   ],
   "source": [
    "html = '''\n",
    "<div>\n",
    "    <ul>\n",
    "         <li class=\"item-0\">first item</li>\n",
    "         <li class=\"item-1\"><a href=\"link2.html\">second item</a></li>\n",
    "         <li class=\"item-0 active\"><a href=\"link3.html\"><span class=\"bold\">third item</span></a></li>\n",
    "         <li class=\"item-1 active\"><a href=\"link4.html\">fourth item</a></li>\n",
    "         <li class=\"item-0\"><a href=\"link5.html\">fifth item</a></li>\n",
    "     </ul>\n",
    " </div>\n",
    "'''\n",
    "from pyquery import PyQuery as pq\n",
    "doc = pq(html)\n",
    "print(doc('li'))"
   ]
  },
  {
   "cell_type": "code",
   "execution_count": 3,
   "id": "4632fc9f",
   "metadata": {},
   "outputs": [
    {
     "name": "stdout",
     "output_type": "stream",
     "text": [
      "<title>静觅丨崔庆才的个人站点 - Python爬虫教程</title>\n",
      "  \n"
     ]
    }
   ],
   "source": [
    "from pyquery import PyQuery as pq\n",
    "doc = pq(url='http://cuiqingcai.com')\n",
    "print(doc('title'))"
   ]
  },
  {
   "cell_type": "code",
   "execution_count": 4,
   "id": "3d08f044",
   "metadata": {},
   "outputs": [
    {
     "name": "stdout",
     "output_type": "stream",
     "text": [
      "<li class=\"item-0\"><a href=\"link1.html\">first item</a></li>\n",
      "         <li class=\"item-1\"><a href=\"link2.html\">second item</a></li>\n",
      "         <li class=\"item-inactive\"><a href=\"link3.html\">third item</a></li>\n",
      "         <li class=\"item-1\"><a href=\"link4.html\">fourth item</a></li>\n",
      "         <li class=\"item-0\"><a href=\"link5.html\">fifth item</a>\n",
      "     </li>\n"
     ]
    }
   ],
   "source": [
    "from pyquery import PyQuery as pq\n",
    "doc = pq(filename='test.html')\n",
    "print(doc('li'))"
   ]
  },
  {
   "cell_type": "markdown",
   "id": "e916788c",
   "metadata": {},
   "source": [
    "基本CSS选择器"
   ]
  },
  {
   "cell_type": "code",
   "execution_count": 5,
   "id": "4a4e5b90",
   "metadata": {},
   "outputs": [
    {
     "name": "stdout",
     "output_type": "stream",
     "text": [
      "<li class=\"item-0\">first item</li>\n",
      "         <li class=\"item-1\"><a href=\"link2.html\">second item</a></li>\n",
      "         <li class=\"item-0 active\"><a href=\"link3.html\"><span class=\"bold\">third item</span></a></li>\n",
      "         <li class=\"item-1 active\"><a href=\"link4.html\">fourth item</a></li>\n",
      "         <li class=\"item-0\"><a href=\"link5.html\">fifth item</a></li>\n",
      "     \n",
      "<class 'pyquery.pyquery.PyQuery'>\n"
     ]
    }
   ],
   "source": [
    "html = '''\n",
    "<div id=\"container\">\n",
    "    <ul class=\"list\">\n",
    "         <li class=\"item-0\">first item</li>\n",
    "         <li class=\"item-1\"><a href=\"link2.html\">second item</a></li>\n",
    "         <li class=\"item-0 active\"><a href=\"link3.html\"><span class=\"bold\">third item</span></a></li>\n",
    "         <li class=\"item-1 active\"><a href=\"link4.html\">fourth item</a></li>\n",
    "         <li class=\"item-0\"><a href=\"link5.html\">fifth item</a></li>\n",
    "     </ul>\n",
    " </div>\n",
    "'''\n",
    "from pyquery import PyQuery as pq\n",
    "doc = pq(html)\n",
    "print(doc('#container .list li'))\n",
    "print(type(doc('#container .list li')))"
   ]
  },
  {
   "cell_type": "markdown",
   "id": "f94c4500",
   "metadata": {},
   "source": [
    "查找节点"
   ]
  },
  {
   "cell_type": "markdown",
   "id": "95a5bb75",
   "metadata": {},
   "source": [
    "find方法 入餐为CSS选择器\n",
    "find查找所有子孙节点\n",
    "children查找所有字节点"
   ]
  },
  {
   "cell_type": "code",
   "execution_count": 6,
   "id": "239f4640",
   "metadata": {},
   "outputs": [
    {
     "name": "stdout",
     "output_type": "stream",
     "text": [
      "<class 'pyquery.pyquery.PyQuery'>\n",
      "<ul class=\"list\">\n",
      "         <li class=\"item-0\">first item</li>\n",
      "         <li class=\"item-1\"><a href=\"link2.html\">second item</a></li>\n",
      "         <li class=\"item-0 active\"><a href=\"link3.html\"><span class=\"bold\">third item</span></a></li>\n",
      "         <li class=\"item-1 active\"><a href=\"link4.html\">fourth item</a></li>\n",
      "         <li class=\"item-0\"><a href=\"link5.html\">fifth item</a></li>\n",
      "     </ul>\n",
      " \n",
      "<class 'pyquery.pyquery.PyQuery'>\n",
      "<li class=\"item-0\">first item</li>\n",
      "         <li class=\"item-1\"><a href=\"link2.html\">second item</a></li>\n",
      "         <li class=\"item-0 active\"><a href=\"link3.html\"><span class=\"bold\">third item</span></a></li>\n",
      "         <li class=\"item-1 active\"><a href=\"link4.html\">fourth item</a></li>\n",
      "         <li class=\"item-0\"><a href=\"link5.html\">fifth item</a></li>\n",
      "     \n"
     ]
    }
   ],
   "source": [
    "from pyquery import PyQuery as pq\n",
    "doc = pq(html)\n",
    "items = doc('.list')\n",
    "print(type(items))\n",
    "print(items)\n",
    "lis = items.find('li')\n",
    "print(type(lis))\n",
    "print(lis)"
   ]
  },
  {
   "cell_type": "code",
   "execution_count": 7,
   "id": "62f4fff6",
   "metadata": {},
   "outputs": [
    {
     "name": "stdout",
     "output_type": "stream",
     "text": [
      "<class 'pyquery.pyquery.PyQuery'>\n",
      "<li class=\"item-0\">first item</li>\n",
      "         <li class=\"item-1\"><a href=\"link2.html\">second item</a></li>\n",
      "         <li class=\"item-0 active\"><a href=\"link3.html\"><span class=\"bold\">third item</span></a></li>\n",
      "         <li class=\"item-1 active\"><a href=\"link4.html\">fourth item</a></li>\n",
      "         <li class=\"item-0\"><a href=\"link5.html\">fifth item</a></li>\n",
      "     \n"
     ]
    }
   ],
   "source": [
    "lis = items.children()\n",
    "print(type(lis))\n",
    "print(lis)"
   ]
  },
  {
   "cell_type": "code",
   "execution_count": 8,
   "id": "3ab43801",
   "metadata": {},
   "outputs": [
    {
     "name": "stdout",
     "output_type": "stream",
     "text": [
      "<li class=\"item-0 active\"><a href=\"link3.html\"><span class=\"bold\">third item</span></a></li>\n",
      "         <li class=\"item-1 active\"><a href=\"link4.html\">fourth item</a></li>\n",
      "         \n"
     ]
    }
   ],
   "source": [
    "lis = items.children('.active')\n",
    "print(lis)"
   ]
  },
  {
   "cell_type": "markdown",
   "id": "0b90fffa",
   "metadata": {},
   "source": [
    "查找父节点和祖先节点"
   ]
  },
  {
   "cell_type": "code",
   "execution_count": 9,
   "id": "6cc7064f",
   "metadata": {},
   "outputs": [
    {
     "name": "stdout",
     "output_type": "stream",
     "text": [
      "<class 'pyquery.pyquery.PyQuery'>\n",
      "<div id=\"container\">\n",
      "        <ul class=\"list\">\n",
      "             <li class=\"item-0\">first item</li>\n",
      "             <li class=\"item-1\"><a href=\"link2.html\">second item</a></li>\n",
      "             <li class=\"item-0 active\"><a href=\"link3.html\"><span class=\"bold\">third item</span></a></li>\n",
      "             <li class=\"item-1 active\"><a href=\"link4.html\">fourth item</a></li>\n",
      "             <li class=\"item-0\"><a href=\"link5.html\">fifth item</a></li>\n",
      "         </ul>\n",
      "     </div>\n",
      " \n"
     ]
    }
   ],
   "source": [
    "html = '''\n",
    "<div class=\"wrap\">\n",
    "    <div id=\"container\">\n",
    "        <ul class=\"list\">\n",
    "             <li class=\"item-0\">first item</li>\n",
    "             <li class=\"item-1\"><a href=\"link2.html\">second item</a></li>\n",
    "             <li class=\"item-0 active\"><a href=\"link3.html\"><span class=\"bold\">third item</span></a></li>\n",
    "             <li class=\"item-1 active\"><a href=\"link4.html\">fourth item</a></li>\n",
    "             <li class=\"item-0\"><a href=\"link5.html\">fifth item</a></li>\n",
    "         </ul>\n",
    "     </div>\n",
    " </div>\n",
    "'''\n",
    "from pyquery import PyQuery as pq\n",
    "doc = pq(html)\n",
    "items = doc('.list')\n",
    "container = items.parent()\n",
    "print(type(container))\n",
    "print(container)"
   ]
  },
  {
   "cell_type": "code",
   "execution_count": 10,
   "id": "39a925d7",
   "metadata": {},
   "outputs": [
    {
     "name": "stdout",
     "output_type": "stream",
     "text": [
      "<class 'pyquery.pyquery.PyQuery'>\n",
      "<div class=\"wrap\">\n",
      "    <div id=\"container\">\n",
      "        <ul class=\"list\">\n",
      "             <li class=\"item-0\">first item</li>\n",
      "             <li class=\"item-1\"><a href=\"link2.html\">second item</a></li>\n",
      "             <li class=\"item-0 active\"><a href=\"link3.html\"><span class=\"bold\">third item</span></a></li>\n",
      "             <li class=\"item-1 active\"><a href=\"link4.html\">fourth item</a></li>\n",
      "             <li class=\"item-0\"><a href=\"link5.html\">fifth item</a></li>\n",
      "         </ul>\n",
      "     </div>\n",
      " </div><div id=\"container\">\n",
      "        <ul class=\"list\">\n",
      "             <li class=\"item-0\">first item</li>\n",
      "             <li class=\"item-1\"><a href=\"link2.html\">second item</a></li>\n",
      "             <li class=\"item-0 active\"><a href=\"link3.html\"><span class=\"bold\">third item</span></a></li>\n",
      "             <li class=\"item-1 active\"><a href=\"link4.html\">fourth item</a></li>\n",
      "             <li class=\"item-0\"><a href=\"link5.html\">fifth item</a></li>\n",
      "         </ul>\n",
      "     </div>\n",
      " \n"
     ]
    }
   ],
   "source": [
    "from pyquery import PyQuery as pq\n",
    "doc = pq(html)\n",
    "items = doc('.list')\n",
    "parents = items.parents()\n",
    "print(type(parents))\n",
    "print(parents)"
   ]
  },
  {
   "cell_type": "markdown",
   "id": "7b63ecca",
   "metadata": {},
   "source": [
    "筛选符合条件的祖先"
   ]
  },
  {
   "cell_type": "code",
   "execution_count": 11,
   "id": "a27c5895",
   "metadata": {},
   "outputs": [
    {
     "name": "stdout",
     "output_type": "stream",
     "text": [
      "<div class=\"wrap\">\n",
      "    <div id=\"container\">\n",
      "        <ul class=\"list\">\n",
      "             <li class=\"item-0\">first item</li>\n",
      "             <li class=\"item-1\"><a href=\"link2.html\">second item</a></li>\n",
      "             <li class=\"item-0 active\"><a href=\"link3.html\"><span class=\"bold\">third item</span></a></li>\n",
      "             <li class=\"item-1 active\"><a href=\"link4.html\">fourth item</a></li>\n",
      "             <li class=\"item-0\"><a href=\"link5.html\">fifth item</a></li>\n",
      "         </ul>\n",
      "     </div>\n",
      " </div>\n"
     ]
    }
   ],
   "source": [
    "parent = items.parents('.wrap')\n",
    "print(parent)"
   ]
  },
  {
   "cell_type": "markdown",
   "id": "d21ea7cb",
   "metadata": {},
   "source": [
    "查找兄弟节点"
   ]
  },
  {
   "cell_type": "code",
   "execution_count": 12,
   "id": "25c91b46",
   "metadata": {},
   "outputs": [
    {
     "name": "stdout",
     "output_type": "stream",
     "text": [
      "<li class=\"item-1\"><a href=\"link2.html\">second item</a></li>\n",
      "             <li class=\"item-0\">first item</li>\n",
      "             <li class=\"item-1 active\"><a href=\"link4.html\">fourth item</a></li>\n",
      "             <li class=\"item-0\"><a href=\"link5.html\">fifth item</a></li>\n",
      "         \n"
     ]
    }
   ],
   "source": [
    "from pyquery import PyQuery as pq\n",
    "doc = pq(html)\n",
    "li = doc('.list .item-0.active')\n",
    "print(li.siblings())"
   ]
  },
  {
   "cell_type": "code",
   "execution_count": 13,
   "id": "42846884",
   "metadata": {},
   "outputs": [
    {
     "name": "stdout",
     "output_type": "stream",
     "text": [
      "<li class=\"item-1 active\"><a href=\"link4.html\">fourth item</a></li>\n",
      "             \n"
     ]
    }
   ],
   "source": [
    "from pyquery import PyQuery as pq\n",
    "doc = pq(html)\n",
    "li = doc('.list .item-0.active')\n",
    "print(li.siblings('.active'))"
   ]
  },
  {
   "cell_type": "markdown",
   "id": "0aeeba80",
   "metadata": {},
   "source": [
    "遍历"
   ]
  },
  {
   "cell_type": "code",
   "execution_count": 14,
   "id": "8560430d",
   "metadata": {},
   "outputs": [
    {
     "name": "stdout",
     "output_type": "stream",
     "text": [
      "<class 'generator'>\n",
      "<li class=\"item-0\">first item</li>\n",
      "              <class 'pyquery.pyquery.PyQuery'>\n",
      "<li class=\"item-1\"><a href=\"link2.html\">second item</a></li>\n",
      "              <class 'pyquery.pyquery.PyQuery'>\n",
      "<li class=\"item-0 active\"><a href=\"link3.html\"><span class=\"bold\">third item</span></a></li>\n",
      "              <class 'pyquery.pyquery.PyQuery'>\n",
      "<li class=\"item-1 active\"><a href=\"link4.html\">fourth item</a></li>\n",
      "              <class 'pyquery.pyquery.PyQuery'>\n",
      "<li class=\"item-0\"><a href=\"link5.html\">fifth item</a></li>\n",
      "          <class 'pyquery.pyquery.PyQuery'>\n"
     ]
    }
   ],
   "source": [
    "from pyquery import PyQuery as pq\n",
    "doc = pq(html)\n",
    "lis = doc('li').items()\n",
    "print(type(lis))\n",
    "for li in lis:\n",
    "    print(li, type(li))"
   ]
  },
  {
   "cell_type": "markdown",
   "id": "e4030ebe",
   "metadata": {},
   "source": [
    "获取信息"
   ]
  },
  {
   "cell_type": "markdown",
   "id": "46b15140",
   "metadata": {},
   "source": [
    "提取属性"
   ]
  },
  {
   "cell_type": "code",
   "execution_count": 15,
   "id": "12dff328",
   "metadata": {},
   "outputs": [
    {
     "name": "stdout",
     "output_type": "stream",
     "text": [
      "<a href=\"link3.html\"><span class=\"bold\">third item</span></a> <class 'pyquery.pyquery.PyQuery'>\n",
      "link3.html\n"
     ]
    }
   ],
   "source": [
    "html = '''\n",
    "<div class=\"wrap\">\n",
    "    <div id=\"container\">\n",
    "        <ul class=\"list\">\n",
    "             <li class=\"item-0\">first item</li>\n",
    "             <li class=\"item-1\"><a href=\"link2.html\">second item</a></li>\n",
    "             <li class=\"item-0 active\"><a href=\"link3.html\"><span class=\"bold\">third item</span></a></li>\n",
    "             <li class=\"item-1 active\"><a href=\"link4.html\">fourth item</a></li>\n",
    "             <li class=\"item-0\"><a href=\"link5.html\">fifth item</a></li>\n",
    "         </ul>\n",
    "     </div>\n",
    " </div>\n",
    "'''\n",
    "from pyquery import PyQuery as pq\n",
    "doc = pq(html)\n",
    "a = doc('.item-0.active a')\n",
    "print(a, type(a))\n",
    "print(a.attr('href'))"
   ]
  },
  {
   "cell_type": "markdown",
   "id": "d9f3883d",
   "metadata": {},
   "source": [
    "attr只返回第一个符合条件额的元素"
   ]
  },
  {
   "cell_type": "code",
   "execution_count": 16,
   "id": "3344440d",
   "metadata": {},
   "outputs": [
    {
     "name": "stdout",
     "output_type": "stream",
     "text": [
      "<a href=\"link2.html\">second item</a><a href=\"link3.html\"><span class=\"bold\">third item</span></a><a href=\"link4.html\">fourth item</a><a href=\"link5.html\">fifth item</a> <class 'pyquery.pyquery.PyQuery'>\n",
      "link2.html\n",
      "link2.html\n"
     ]
    }
   ],
   "source": [
    "a = doc('a')\n",
    "print(a, type(a))\n",
    "print(a.attr('href'))\n",
    "print(a.attr.href)"
   ]
  },
  {
   "cell_type": "code",
   "execution_count": 17,
   "id": "750fd89e",
   "metadata": {},
   "outputs": [
    {
     "name": "stdout",
     "output_type": "stream",
     "text": [
      "link2.html\n",
      "link3.html\n",
      "link4.html\n",
      "link5.html\n"
     ]
    }
   ],
   "source": [
    "from pyquery import PyQuery as pq\n",
    "doc = pq(html)\n",
    "a = doc('a')\n",
    "for item in a.items():\n",
    "    print(item.attr('href'))"
   ]
  },
  {
   "cell_type": "markdown",
   "id": "58cd9b09",
   "metadata": {},
   "source": [
    "获取文本"
   ]
  },
  {
   "cell_type": "code",
   "execution_count": 18,
   "id": "5cc0ac7b",
   "metadata": {},
   "outputs": [
    {
     "name": "stdout",
     "output_type": "stream",
     "text": [
      "<a href=\"link3.html\"><span class=\"bold\">third item</span></a>\n",
      "third item\n"
     ]
    }
   ],
   "source": [
    "html = '''\n",
    "<div class=\"wrap\">\n",
    "    <div id=\"container\">\n",
    "        <ul class=\"list\">\n",
    "             <li class=\"item-0\">first item</li>\n",
    "             <li class=\"item-1\"><a href=\"link2.html\">second item</a></li>\n",
    "             <li class=\"item-0 active\"><a href=\"link3.html\"><span class=\"bold\">third item</span></a></li>\n",
    "             <li class=\"item-1 active\"><a href=\"link4.html\">fourth item</a></li>\n",
    "             <li class=\"item-0\"><a href=\"link5.html\">fifth item</a></li>\n",
    "         </ul>\n",
    "     </div>\n",
    " </div>\n",
    "'''\n",
    "from pyquery import PyQuery as pq\n",
    "doc = pq(html)\n",
    "a = doc('.item-0.active a')\n",
    "print(a)\n",
    "print(a.text())"
   ]
  },
  {
   "cell_type": "code",
   "execution_count": 19,
   "id": "d546acbc",
   "metadata": {},
   "outputs": [
    {
     "name": "stdout",
     "output_type": "stream",
     "text": [
      "<li class=\"item-0 active\"><a href=\"link3.html\"><span class=\"bold\">third item</span></a></li>\n",
      "             \n",
      "<a href=\"link3.html\"><span class=\"bold\">third item</span></a>\n"
     ]
    }
   ],
   "source": [
    "from pyquery import PyQuery as pq\n",
    "doc = pq(html)\n",
    "li = doc('.item-0.active')\n",
    "print(li)\n",
    "print(li.html())"
   ]
  },
  {
   "cell_type": "markdown",
   "id": "cdd80eec",
   "metadata": {},
   "source": [
    "html只返回第一个匹配对象，text返回所有的匹配对象"
   ]
  },
  {
   "cell_type": "code",
   "execution_count": 21,
   "id": "d5b1f49a",
   "metadata": {},
   "outputs": [
    {
     "name": "stdout",
     "output_type": "stream",
     "text": [
      "<a href=\"link2.html\">second item</a>\n",
      "second item third item fourth item fifth item\n",
      "<class 'str'>\n"
     ]
    }
   ],
   "source": [
    "html = '''\n",
    "<div class=\"wrap\">\n",
    "    <div id=\"container\">\n",
    "        <ul class=\"list\">\n",
    "             <li class=\"item-1\"><a href=\"link2.html\">second item</a></li>\n",
    "             <li class=\"item-0 active\"><a href=\"link3.html\"><span class=\"bold\">third item</span></a></li>\n",
    "             <li class=\"item-1 active\"><a href=\"link4.html\">fourth item</a></li>\n",
    "             <li class=\"item-0\"><a href=\"link5.html\">fifth item</a></li>\n",
    "         </ul>\n",
    "     </div>\n",
    " </div>\n",
    "'''\n",
    "from pyquery import PyQuery as pq\n",
    "doc = pq(html)\n",
    "li = doc('li')\n",
    "print(li.html())\n",
    "print(li.text())\n",
    "print(type(li.text()))"
   ]
  },
  {
   "cell_type": "markdown",
   "id": "a35d3c47",
   "metadata": {},
   "source": [
    "节点操作"
   ]
  },
  {
   "cell_type": "markdown",
   "id": "3d96cc04",
   "metadata": {},
   "source": [
    "addClass removeClass"
   ]
  },
  {
   "cell_type": "code",
   "execution_count": 22,
   "id": "a1ebad49",
   "metadata": {},
   "outputs": [
    {
     "name": "stdout",
     "output_type": "stream",
     "text": [
      "<li class=\"item-0 active\"><a href=\"link3.html\"><span class=\"bold\">third item</span></a></li>\n",
      "             \n",
      "<li class=\"item-0\"><a href=\"link3.html\"><span class=\"bold\">third item</span></a></li>\n",
      "             \n",
      "<li class=\"item-0 active\"><a href=\"link3.html\"><span class=\"bold\">third item</span></a></li>\n",
      "             \n"
     ]
    }
   ],
   "source": [
    "html = '''\n",
    "<div class=\"wrap\">\n",
    "    <div id=\"container\">\n",
    "        <ul class=\"list\">\n",
    "             <li class=\"item-0\">first item</li>\n",
    "             <li class=\"item-1\"><a href=\"link2.html\">second item</a></li>\n",
    "             <li class=\"item-0 active\"><a href=\"link3.html\"><span class=\"bold\">third item</span></a></li>\n",
    "             <li class=\"item-1 active\"><a href=\"link4.html\">fourth item</a></li>\n",
    "             <li class=\"item-0\"><a href=\"link5.html\">fifth item</a></li>\n",
    "         </ul>\n",
    "     </div>\n",
    " </div>\n",
    "'''\n",
    "from pyquery import PyQuery as pq\n",
    "doc = pq(html)\n",
    "li = doc('.item-0.active')\n",
    "print(li)\n",
    "li.removeClass('active')\n",
    "print(li)\n",
    "li.addClass('active')\n",
    "print(li)"
   ]
  },
  {
   "cell_type": "markdown",
   "id": "5cf9df04",
   "metadata": {},
   "source": [
    "attr html text"
   ]
  },
  {
   "cell_type": "code",
   "execution_count": 23,
   "id": "cef9f90f",
   "metadata": {},
   "outputs": [
    {
     "name": "stdout",
     "output_type": "stream",
     "text": [
      "<li class=\"item-0 active\"><a href=\"link3.html\"><span class=\"bold\">third item</span></a></li>\n",
      "\n",
      "<li class=\"item-0 active\" name=\"link\"><a href=\"link3.html\"><span class=\"bold\">third item</span></a></li>\n",
      "\n",
      "<li class=\"item-0 active\" name=\"link\">changed item</li>\n",
      "\n",
      "<li class=\"item-0 active\" name=\"link\"><span>changed item</span></li>\n"
     ]
    }
   ],
   "source": [
    "html = '''\n",
    "<ul class=\"list\">\n",
    "     <li class=\"item-0 active\"><a href=\"link3.html\"><span class=\"bold\">third item</span></a></li>\n",
    "</ul>\n",
    "'''\n",
    "from pyquery import PyQuery as pq\n",
    "doc = pq(html)\n",
    "li = doc('.item-0.active')\n",
    "print(li)\n",
    "li.attr('name', 'link')\n",
    "print(li)\n",
    "li.text('changed item')\n",
    "print(li)\n",
    "li.html('<span>changed item</span>')\n",
    "print(li)"
   ]
  },
  {
   "cell_type": "markdown",
   "id": "ba89091d",
   "metadata": {},
   "source": [
    "remove"
   ]
  },
  {
   "cell_type": "code",
   "execution_count": 24,
   "id": "24b7a0b5",
   "metadata": {},
   "outputs": [
    {
     "name": "stdout",
     "output_type": "stream",
     "text": [
      "Hello, World This is a paragraph.\n",
      "Hello, World\n"
     ]
    }
   ],
   "source": [
    "html = '''\n",
    "<div class=\"wrap\">\n",
    "    Hello, World\n",
    "    <p>This is a paragraph.</p>\n",
    " </div>\n",
    "'''\n",
    "from pyquery import PyQuery as pq\n",
    "doc = pq(html)\n",
    "wrap = doc('.wrap')\n",
    "print(wrap.text())\n",
    "wrap.find('p').remove()\n",
    "print(wrap.text())"
   ]
  },
  {
   "cell_type": "markdown",
   "id": "d4d9c90e",
   "metadata": {},
   "source": [
    "伪类选择器"
   ]
  },
  {
   "cell_type": "code",
   "execution_count": 25,
   "id": "5afa03c3",
   "metadata": {},
   "outputs": [
    {
     "name": "stdout",
     "output_type": "stream",
     "text": [
      "<li class=\"item-0\">first item</li>\n",
      "             \n",
      "<li class=\"item-0\"><a href=\"link5.html\">fifth item</a></li>\n",
      "         \n",
      "<li class=\"item-1\"><a href=\"link2.html\">second item</a></li>\n",
      "             \n",
      "<li class=\"item-1 active\"><a href=\"link4.html\">fourth item</a></li>\n",
      "             <li class=\"item-0\"><a href=\"link5.html\">fifth item</a></li>\n",
      "         \n",
      "<li class=\"item-1\"><a href=\"link2.html\">second item</a></li>\n",
      "             <li class=\"item-1 active\"><a href=\"link4.html\">fourth item</a></li>\n",
      "             \n",
      "<li class=\"item-1\"><a href=\"link2.html\">second item</a></li>\n",
      "             \n"
     ]
    }
   ],
   "source": [
    "html = '''\n",
    "<div class=\"wrap\">\n",
    "    <div id=\"container\">\n",
    "        <ul class=\"list\">\n",
    "             <li class=\"item-0\">first item</li>\n",
    "             <li class=\"item-1\"><a href=\"link2.html\">second item</a></li>\n",
    "             <li class=\"item-0 active\"><a href=\"link3.html\"><span class=\"bold\">third item</span></a></li>\n",
    "             <li class=\"item-1 active\"><a href=\"link4.html\">fourth item</a></li>\n",
    "             <li class=\"item-0\"><a href=\"link5.html\">fifth item</a></li>\n",
    "         </ul>\n",
    "     </div>\n",
    " </div>\n",
    "'''\n",
    "from pyquery import PyQuery as pq\n",
    "doc = pq(html)\n",
    "li = doc('li:first-child')\n",
    "print(li)\n",
    "li = doc('li:last-child')\n",
    "print(li)\n",
    "li = doc('li:nth-child(2)')\n",
    "print(li)\n",
    "li = doc('li:gt(2)')\n",
    "print(li)\n",
    "li = doc('li:nth-child(2n)')\n",
    "print(li)\n",
    "li = doc('li:contains(second)')\n",
    "print(li)"
   ]
  },
  {
   "cell_type": "code",
   "execution_count": null,
   "id": "1fb306b2",
   "metadata": {},
   "outputs": [],
   "source": []
  }
 ],
 "metadata": {
  "kernelspec": {
   "display_name": "python36",
   "language": "python",
   "name": "python36"
  },
  "language_info": {
   "codemirror_mode": {
    "name": "ipython",
    "version": 3
   },
   "file_extension": ".py",
   "mimetype": "text/x-python",
   "name": "python",
   "nbconvert_exporter": "python",
   "pygments_lexer": "ipython3",
   "version": "3.6.2"
  }
 },
 "nbformat": 4,
 "nbformat_minor": 5
}
