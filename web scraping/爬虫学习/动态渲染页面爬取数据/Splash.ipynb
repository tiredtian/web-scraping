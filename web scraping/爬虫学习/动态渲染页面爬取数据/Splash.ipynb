{
 "cells": [
  {
   "cell_type": "markdown",
   "id": "ba0b4761",
   "metadata": {},
   "source": [
    "Splash 是一个 JavaScript 渲染服务，是一个带有 HTTP API 的轻量级浏览器，同时它对接了 Python 中的 Twisted 和 QT 库。利用它，我们同样可以实现动态渲染页面的抓取。"
   ]
  }
 ],
 "metadata": {
  "kernelspec": {
   "display_name": "python36",
   "language": "python",
   "name": "python36"
  }
 },
 "nbformat": 4,
 "nbformat_minor": 5
}
