{
 "cells": [
  {
   "cell_type": "code",
   "execution_count": 1,
   "id": "54b34fbc",
   "metadata": {},
   "outputs": [],
   "source": [
    "import requests\n",
    "from pyquery import PyQuery as pq"
   ]
  },
  {
   "cell_type": "code",
   "execution_count": 2,
   "id": "28efa2b5",
   "metadata": {},
   "outputs": [],
   "source": [
    "url = 'https://www.zhihu.com'\n",
    "headers = {\n",
    "    'User-Agent': 'Mozilla/5.0 (Macintosh; Intel Mac OS X 10_12_3) AppleWebKit/537.36 (KHTML, like Gecko) Chrome/58.0.3029.110 Safari/537.36',\n",
    "    'Cookie':'_zap=762f6605-2a13-4cf8-8ca9-675cf0da64df; d_c0=AcDYORt9uRaPTnPxWi2e7lCs_4DtdAGKAjU=|1683185057; YD00517437729195%3AWM_TID=LVPMm3i82NdEFQEABVeVeqgj%2FAJlCsI2; _xsrf=SNfCp6dXxv1bRP9aYs9wmsYgtX4sUDZV; __snaker__id=ckUXJ8vf3SmxOOwK; YD00517437729195%3AWM_NI=R5UKX%2FTNWs%2BmnRzkz11CquCK736U9od6w3GEcHITMb4kNtrIZQ6G2c7O8P3IlDLBXYAxwVWa68uO8jVTdlpJemEepmYTeNusiub4jP34Vh1szPDMxFXA0xEuQ1VB8ArycGo%3D; YD00517437729195%3AWM_NIKE=9ca17ae2e6ffcda170e2e6eea6f625a8b0838cc561a6b88ab2c55f828a9e86c161f3eabea7f67fab92ae8db32af0fea7c3b92a92eb9bacdb2598929994aa67ae8eb68cf93bf39dbf96c241f5edfab6bc65a8eab9d4c64fa19887b5d06af8b58295f1439a8ffaa8b169f591f8b1b243b09c84a3db5383a8b9b7d66bf6e8bbb0bb62968cac8df342a7b38b86f3679b8cabaff879ababaed5e95cf1ec9a89b479ba908caefb4e9c9f0099c87f93ef9aa3bb4bb2a7ada8ee37e2a3; captcha_session_v2=2|1:0|10:1689043251|18:captcha_session_v2|88:SHVJQXRMM2lyQVpUVTcxSGZibSt1QjlDaDhvakh1MmljUDczb21FTHNndytYYkw0cWhtdG5uOTlIaGNLRnR5Yg==|681928c4270990a099f5d8b2d211e4b4832a1fa9286d8bcc3586cce97e3e8471; gdxidpyhxdE=g7EK2dIZGisW64SY%5COi3tLlXM54CTOjSJJzMBmROKcMVm7UzEpt43ID%2B5LVbqcASqVTtuaQyhpKKY8Cf11S8c91f2dsX6Zx%2Bm2SRJvxMrH5vE57Rx9xqr8dyhvaOgtDBL%2FJVKCYL67meB9cEDa4c%2F%2Fmz3WxOe8rQi%2BRUwU3IIWPvI%2FSI%3A1689044159710; captcha_ticket_v2=2|1:0|10:1689043269|17:captcha_ticket_v2|704:eyJ2YWxpZGF0ZSI6Ik5BTlBfZFIuTDRxXy1CY0RkZDZ2c0xBVXNiUnNCWGtMOXJlLkV1dWdzVWxMVVp6LTlubWt5RWdIMVNqaUo3RnFDX3NWVUZqb2R5Tjk2YTRmT3FZWFpERG5hQ2I5MFBxaVRMdmE1cGVUU3dFaDZSRWNGUmRaVERRNk5BYXF3QWU3LjBaV0hFRHhnenNXU080a2EuUzFrWThBVWJsNFQxRHRqTU00aXN0S3hkRXVUQWJpbHdEQlJ6Sk9LT05veVdDVzk4NkVQdl9sczEyTDhHV1hMeV9yLnFEX1dxMDY0bWhRb1k5RVU1Y21VNlV0STRfMnBGR2FubWI0cERWdEpGUDdEcV9WeDBwOXB5VmpIU1RqV01IaUtZVVZPUldyX1VaOTlfQ0dGZ2tiNmN6eG1oaHdsWjJCS0xuaURhS2pFSlVBclJoemhPNFo5X2VwNEouN1o2UWQxbk52RDZSUmpuMXFpQlNIcklLOEJlcm40WVdFOUZCbTdpOFRwc1ItZ0d2V09Na2hDYUxLMk53SjRDTzQ0eEZSa2Jwb21BYXZLZ250MGNxa3VlZlpHcy5lMGpLc0d4b0xfay1yVnd5eUtrRnVpcUt0a1lkWGlYTUJ3RXh2NjYwZk5sNEMtV3dRcW9aOFZCdG9LRW4xZEtHTENuWGUueXJfMVRvNEIxNnRuUzVTMyJ9|f7fe888cf222bd68a14933a22bdfe423581236a34c3a8bca4b51e55265c380eb; z_c0=2|1:0|10:1689043283|4:z_c0|92:Mi4xZXQ0SEtnQUFBQUFCd05nNUczMjVGaVlBQUFCZ0FsVk5VZy1hWlFBeFQ1aWhVTkNEdTY0WmY2MDR6WjFlUnVvdlhn|5183d92a74bc2a8939ad5501af2d40876b1d5dee2dfed33fd411b9bcc38edde8; q_c1=cdffb52c9ba94f0fb1932c934ed32ece|1689043285000|1689043285000; Hm_lvt_98beee57fd2ef70ccdd5ca52b9740c49=1688007022,1688980391,1689042281,1689150731; Hm_lpvt_98beee57fd2ef70ccdd5ca52b9740c49=1689150731; tst=r; SESSIONID=7lExk3V3QCLEeCLoImNCVawUCoqwD1Q8PaWcsSmzg1s; JOID=UVoXBEnYbdsKAdeje90tg98drhps7gGbd2vl9U2IL5dKYZXuFNINdWoB1qZ7U_NVyyUkim--1TIagOR6SLg_OG4=; osd=VFkdB0ndbtEJAdKgcd4thtwXrRpp7QuYd27m_06IKpRAYpXrF9gOdW8C3KV7VvBfyCUhiWW91TcZiud6Tbs1O24=; KLBRSID=dc02df4a8178e8c4dfd0a3c8cbd8c726|1689150735|1689150728'\n",
    "}\n",
    "html = requests.get(url,headers = headers).text"
   ]
  },
  {
   "cell_type": "code",
   "execution_count": 74,
   "id": "38ab5609",
   "metadata": {},
   "outputs": [],
   "source": [
    "doc = pq(html)\n",
    "# 直接获取到的是html类型，需要转换为pyquery类型\n",
    "items = doc('.ContentItem.AnswerItem')\n",
    "\n",
    "items = doc('.ContentItem.AnswerItem').items()\n",
    "for item in items:\n",
    "#     question = item.find('h2').text()\n",
    "#     question = item('.ContentItem-title').text()\n",
    "    question = item.find('.ContentItem-title').text()\n",
    "\n",
    "    temp = item.attr('data-zop')\n",
    "    startStr = '\"authorName:\"'\n",
    "    endStr = ','\n",
    "    end = temp.find(endStr)\n",
    "    author = temp[len(startStr)+1:end]\n",
    "    \n",
    "#     answer = item('.css-376mun .RichText.ztext.CopyrightRichText-richText.css-1g0fqss').text()\n",
    "#     answer = pq(item.find('.RichText.ztext.CopyrightRichText-richText.css-1g0fqss').html()).text()\n",
    "#     answer = item('.RichText.ztext.CopyrightRichText-richText.css-1g0fqss').text()\n",
    "    answer = item.find('.RichText.ztext.CopyrightRichText-richText.css-1g0fqss').text()\n",
    "    \n",
    "    with open('explore.txt', 'a', encoding='utf-8') as file:\n",
    "        file.write('\\n'.join([question, author, answer]))\n",
    "        file.write('\\n' + '=' * 50 + '\\n')"
   ]
  },
  {
   "cell_type": "code",
   "execution_count": null,
   "id": "76026098",
   "metadata": {},
   "outputs": [],
   "source": []
  }
 ],
 "metadata": {
  "kernelspec": {
   "display_name": "python36",
   "language": "python",
   "name": "python36"
  },
  "language_info": {
   "codemirror_mode": {
    "name": "ipython",
    "version": 3
   },
   "file_extension": ".py",
   "mimetype": "text/x-python",
   "name": "python",
   "nbconvert_exporter": "python",
   "pygments_lexer": "ipython3",
   "version": "3.6.2"
  }
 },
 "nbformat": 4,
 "nbformat_minor": 5
}
