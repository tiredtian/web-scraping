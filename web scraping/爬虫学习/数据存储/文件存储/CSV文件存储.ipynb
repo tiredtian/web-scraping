{
 "cells": [
  {
   "cell_type": "markdown",
   "id": "18f17820",
   "metadata": {},
   "source": [
    "写入csv"
   ]
  },
  {
   "cell_type": "code",
   "execution_count": 1,
   "id": "aa5c653c",
   "metadata": {},
   "outputs": [],
   "source": [
    "import csv\n",
    "\n",
    "with open('data.csv', 'w') as csvfile:\n",
    "    writer = csv.writer(csvfile)\n",
    "    writer.writerow(['id', 'name', 'age'])\n",
    "    writer.writerow(['10001', 'Mike', 20])\n",
    "    writer.writerow(['10002', 'Bob', 22])\n",
    "    writer.writerow(['10003', 'Jordan', 21])"
   ]
  },
  {
   "cell_type": "code",
   "execution_count": 2,
   "id": "dbdd8229",
   "metadata": {},
   "outputs": [],
   "source": [
    "import csv\n",
    "\n",
    "with open('data1.csv', 'w') as csvfile:\n",
    "    writer = csv.writer(csvfile, delimiter=' ')\n",
    "    writer.writerow(['id', 'name', 'age'])\n",
    "    writer.writerow(['10001', 'Mike', 20])\n",
    "    writer.writerow(['10002', 'Bob', 22])\n",
    "    writer.writerow(['10003', 'Jordan', 21])"
   ]
  },
  {
   "cell_type": "code",
   "execution_count": 3,
   "id": "93fb01d4",
   "metadata": {},
   "outputs": [],
   "source": [
    "import csv\n",
    "\n",
    "with open('data2.csv', 'w') as csvfile:\n",
    "    writer = csv.writer(csvfile)\n",
    "    writer.writerow(['id', 'name', 'age'])\n",
    "    writer.writerows([['10001', 'Mike', 20], ['10002', 'Bob', 22], ['10003', 'Jordan', 21]])"
   ]
  },
  {
   "cell_type": "markdown",
   "id": "df8b84ed",
   "metadata": {},
   "source": [
    "爬虫爬取的结构化数据"
   ]
  },
  {
   "cell_type": "code",
   "execution_count": 4,
   "id": "3d07ad02",
   "metadata": {},
   "outputs": [],
   "source": [
    "import csv\n",
    "\n",
    "with open('data3.csv', 'w') as csvfile:\n",
    "    fieldnames = ['id', 'name', 'age']\n",
    "    writer = csv.DictWriter(csvfile, fieldnames=fieldnames)\n",
    "    writer.writeheader()\n",
    "    writer.writerow({'id': '10001', 'name': 'Mike', 'age': 20})\n",
    "    writer.writerow({'id': '10002', 'name': 'Bob', 'age': 22})\n",
    "    writer.writerow({'id': '10003', 'name': 'Jordan', 'age': 21})"
   ]
  },
  {
   "cell_type": "markdown",
   "id": "b3d7cbfa",
   "metadata": {},
   "source": [
    "写入中文"
   ]
  },
  {
   "cell_type": "code",
   "execution_count": 6,
   "id": "03e4084c",
   "metadata": {},
   "outputs": [],
   "source": [
    "import csv\n",
    "\n",
    "with open('data.csv', 'a',encoding='utf-8') as csvfile:\n",
    "    writer = csv.writer(csvfile)\n",
    "    writer.writerow(['10005', '王', 21])"
   ]
  },
  {
   "cell_type": "markdown",
   "id": "778f60b7",
   "metadata": {},
   "source": [
    "读取文件"
   ]
  },
  {
   "cell_type": "code",
   "execution_count": 7,
   "id": "47343e19",
   "metadata": {},
   "outputs": [
    {
     "name": "stdout",
     "output_type": "stream",
     "text": [
      "['id', 'name', 'age']\n",
      "['10001', 'Mike', '20']\n",
      "['10002', 'Bob', '22']\n",
      "['10003', 'Jordan', '21']\n",
      "['10004', '王', '21']\n",
      "['10005', '王', '21']\n"
     ]
    }
   ],
   "source": [
    "import csv  \n",
    "\n",
    "with open('data.csv', 'r', encoding='utf-8') as csvfile:  \n",
    "    reader = csv.reader(csvfile)  \n",
    "    for row in reader:  \n",
    "        print(row)"
   ]
  },
  {
   "cell_type": "code",
   "execution_count": null,
   "id": "0c881ef8",
   "metadata": {},
   "outputs": [],
   "source": []
  }
 ],
 "metadata": {
  "kernelspec": {
   "display_name": "python36",
   "language": "python",
   "name": "python36"
  }
 },
 "nbformat": 4,
 "nbformat_minor": 5
}
