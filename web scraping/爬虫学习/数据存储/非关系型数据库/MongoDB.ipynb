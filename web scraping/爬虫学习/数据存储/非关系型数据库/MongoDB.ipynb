{
 "cells": [
  {
   "cell_type": "markdown",
   "id": "ecbb72e8",
   "metadata": {},
   "source": [
    "连接mongoDB"
   ]
  },
  {
   "cell_type": "code",
   "execution_count": 1,
   "id": "2fd02fb7",
   "metadata": {},
   "outputs": [],
   "source": [
    "import pymongo\n",
    "client = pymongo.MongoClient(host='localhost', port=27017)"
   ]
  },
  {
   "cell_type": "markdown",
   "id": "f3171305",
   "metadata": {},
   "source": [
    "指定数据库"
   ]
  },
  {
   "cell_type": "code",
   "execution_count": 2,
   "id": "48a7b416",
   "metadata": {},
   "outputs": [],
   "source": [
    "db = client['test']"
   ]
  },
  {
   "cell_type": "markdown",
   "id": "7e107123",
   "metadata": {},
   "source": [
    "指定集合"
   ]
  },
  {
   "cell_type": "code",
   "execution_count": 3,
   "id": "6128c908",
   "metadata": {},
   "outputs": [],
   "source": [
    "collection = db['students']"
   ]
  },
  {
   "cell_type": "markdown",
   "id": "172cb230",
   "metadata": {},
   "source": [
    "插入数据"
   ]
  },
  {
   "cell_type": "code",
   "execution_count": 5,
   "id": "3095f280",
   "metadata": {},
   "outputs": [
    {
     "name": "stdout",
     "output_type": "stream",
     "text": [
      "<pymongo.results.InsertOneResult object at 0x7ff338566518>\n"
     ]
    }
   ],
   "source": [
    "student = {\n",
    "    'id': '20170101',\n",
    "    'name': 'Jordan',\n",
    "    'age': 20,\n",
    "    'gender': 'male'\n",
    "}\n",
    "result = collection.insert_one(student)\n",
    "print(result)"
   ]
  },
  {
   "cell_type": "code",
   "execution_count": 7,
   "id": "930e57a5",
   "metadata": {},
   "outputs": [
    {
     "name": "stdout",
     "output_type": "stream",
     "text": [
      "<pymongo.results.InsertManyResult object at 0x7ff2e8066dd8>\n",
      "[ObjectId('64b10cb03d4a59cb54d8b6df'), ObjectId('64b10cb03d4a59cb54d8b6e0')]\n"
     ]
    }
   ],
   "source": [
    "student1 = {\n",
    "    'id': '20170100',\n",
    "    'name': 'Jordan',\n",
    "    'age': 20,\n",
    "    'gender': 'male'\n",
    "}\n",
    "\n",
    "student2 = {\n",
    "    'id': '20170202',\n",
    "    'name': 'Mike',\n",
    "    'age': 21,\n",
    "    'gender': 'male'\n",
    "}\n",
    "\n",
    "result = collection.insert_many([student1, student2])\n",
    "print(result)\n",
    "print(result.inserted_ids)"
   ]
  },
  {
   "cell_type": "markdown",
   "id": "2b2c588c",
   "metadata": {},
   "source": [
    "查询数据"
   ]
  },
  {
   "cell_type": "code",
   "execution_count": 6,
   "id": "91229ae3",
   "metadata": {},
   "outputs": [
    {
     "name": "stdout",
     "output_type": "stream",
     "text": [
      "<class 'dict'>\n",
      "{'_id': ObjectId('64b10c303d4a59cb54d8b6de'), 'id': '20170101', 'name': 'Jordan', 'age': 20, 'gender': 'male'}\n"
     ]
    }
   ],
   "source": [
    "result = collection.find_one({'name': 'Jordan'})\n",
    "print(type(result))\n",
    "print(result)"
   ]
  },
  {
   "cell_type": "code",
   "execution_count": 8,
   "id": "19f5e015",
   "metadata": {},
   "outputs": [
    {
     "name": "stdout",
     "output_type": "stream",
     "text": [
      "<pymongo.cursor.Cursor object at 0x7ff349393048>\n",
      "{'_id': ObjectId('64b10c303d4a59cb54d8b6de'), 'id': '20170101', 'name': 'Jordan', 'age': 20, 'gender': 'male'}\n",
      "{'_id': ObjectId('64b10cb03d4a59cb54d8b6df'), 'id': '20170100', 'name': 'Jordan', 'age': 20, 'gender': 'male'}\n"
     ]
    }
   ],
   "source": [
    "results = collection.find({'age': 20})\n",
    "print(results)\n",
    "for result in results:\n",
    "    print(result)"
   ]
  },
  {
   "cell_type": "markdown",
   "id": "b05ce3e8",
   "metadata": {},
   "source": [
    "排序"
   ]
  },
  {
   "cell_type": "code",
   "execution_count": 11,
   "id": "e70fcca0",
   "metadata": {},
   "outputs": [
    {
     "name": "stdout",
     "output_type": "stream",
     "text": [
      "['Jordan', 'Jordan', 'Mike']\n"
     ]
    }
   ],
   "source": [
    "results = collection.find().sort('name', pymongo.ASCENDING)\n",
    "print([result['name'] for result in results])"
   ]
  },
  {
   "cell_type": "markdown",
   "id": "a3455e3c",
   "metadata": {},
   "source": [
    "更新"
   ]
  },
  {
   "cell_type": "code",
   "execution_count": 15,
   "id": "c3e084c1",
   "metadata": {},
   "outputs": [
    {
     "name": "stdout",
     "output_type": "stream",
     "text": [
      "<pymongo.results.UpdateResult object at 0x7ff349393898>\n"
     ]
    }
   ],
   "source": [
    "condition = {'name': 'Mike'}\n",
    "student = collection.find_one(condition)\n",
    "student['age'] = 25\n",
    "result = collection.update_one(condition, {'$set': student})\n",
    "print(result)"
   ]
  },
  {
   "cell_type": "markdown",
   "id": "e968f1f7",
   "metadata": {},
   "source": [
    "删除"
   ]
  },
  {
   "cell_type": "code",
   "execution_count": 17,
   "id": "b2fda72d",
   "metadata": {},
   "outputs": [
    {
     "name": "stdout",
     "output_type": "stream",
     "text": [
      "<pymongo.results.DeleteResult object at 0x7ff3000a9f28>\n"
     ]
    }
   ],
   "source": [
    "result = collection.delete_one({'id': '20170100'})\n",
    "print(result)"
   ]
  },
  {
   "cell_type": "code",
   "execution_count": null,
   "id": "7dc359a2",
   "metadata": {},
   "outputs": [],
   "source": []
  }
 ],
 "metadata": {
  "kernelspec": {
   "display_name": "python36",
   "language": "python",
   "name": "python36"
  }
 },
 "nbformat": 4,
 "nbformat_minor": 5
}
