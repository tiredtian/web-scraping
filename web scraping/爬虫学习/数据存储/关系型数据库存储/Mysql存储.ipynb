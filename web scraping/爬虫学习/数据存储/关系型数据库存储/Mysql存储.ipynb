{
 "cells": [
  {
   "cell_type": "markdown",
   "id": "c07e7a8b",
   "metadata": {},
   "source": [
    "创建数据库"
   ]
  },
  {
   "cell_type": "code",
   "execution_count": 2,
   "id": "7ac3ee20",
   "metadata": {},
   "outputs": [
    {
     "name": "stdout",
     "output_type": "stream",
     "text": [
      "Database version: ('8.0.33',)\n"
     ]
    }
   ],
   "source": [
    "import pymysql  \n",
    "\n",
    "db = pymysql.connect(host='localhost',user='root', password='12345tzp', port=3306)  \n",
    "cursor = db.cursor()  \n",
    "cursor.execute('SELECT VERSION()')  \n",
    "data = cursor.fetchone()  \n",
    "print('Database version:', data)  \n",
    "cursor.execute(\"CREATE DATABASE spiders DEFAULT CHARACTER SET utf8\")  \n",
    "db.close()"
   ]
  },
  {
   "cell_type": "markdown",
   "id": "0e9460d1",
   "metadata": {},
   "source": [
    "创建表"
   ]
  },
  {
   "cell_type": "code",
   "execution_count": 3,
   "id": "dae7ee23",
   "metadata": {},
   "outputs": [],
   "source": [
    "import pymysql\n",
    "\n",
    "db = pymysql.connect(host='localhost', user='root', password='12345tzp', port=3306, db='spiders')\n",
    "cursor = db.cursor()\n",
    "sql = 'CREATE TABLE IF NOT EXISTS students (id VARCHAR(255) NOT NULL, name VARCHAR(255) NOT NULL, age INT NOT NULL, PRIMARY KEY (id))'\n",
    "cursor.execute(sql)\n",
    "db.close()"
   ]
  },
  {
   "cell_type": "markdown",
   "id": "f1603c90",
   "metadata": {},
   "source": [
    "插入数据"
   ]
  },
  {
   "cell_type": "code",
   "execution_count": 4,
   "id": "0ab71b1a",
   "metadata": {},
   "outputs": [],
   "source": [
    "import pymysql\n",
    "\n",
    "id = '20120001'\n",
    "user = 'Bob'\n",
    "age = 20\n",
    "\n",
    "db = pymysql.connect(host='localhost', user='root', password='12345tzp', port=3306, db='spiders')\n",
    "cursor = db.cursor()\n",
    "sql = 'INSERT INTO students(id, name, age) values(% s, % s, % s)'\n",
    "try:\n",
    "    cursor.execute(sql, (id, user, age))\n",
    "    db.commit()\n",
    "except:\n",
    "    db.rollback()\n",
    "db.close()"
   ]
  },
  {
   "cell_type": "markdown",
   "id": "6ba718ab",
   "metadata": {},
   "source": [
    "插入优化"
   ]
  },
  {
   "cell_type": "code",
   "execution_count": 24,
   "id": "8c1e9215",
   "metadata": {},
   "outputs": [
    {
     "name": "stdout",
     "output_type": "stream",
     "text": [
      "Successful\n"
     ]
    }
   ],
   "source": [
    "import pymysql\n",
    "db = pymysql.connect(host='localhost', user='root', password='12345tzp', port=3306, db='spiders')\n",
    "cursor = db.cursor()\n",
    "\n",
    "data = {\n",
    "    'id': '20120001',\n",
    "    'name': 'Bob',\n",
    "    'age': 20\n",
    "}\n",
    "table = 'students'\n",
    "keys = ', '.join(data.keys())\n",
    "values = ', '.join(['% s'] * len(data))\n",
    "sql = 'INSERT INTO {table}({keys}) VALUES ({values})'.format(table=table, keys=keys, values=values)\n",
    "try:\n",
    "   if cursor.execute(sql, tuple(data.values())):\n",
    "       print('Successful')\n",
    "       db.commit()\n",
    "except:\n",
    "    print('Failed')\n",
    "    db.rollback()\n",
    "db.close()"
   ]
  },
  {
   "cell_type": "markdown",
   "id": "632004f1",
   "metadata": {},
   "source": [
    "更新操作"
   ]
  },
  {
   "cell_type": "code",
   "execution_count": 21,
   "id": "ab75a672",
   "metadata": {},
   "outputs": [
    {
     "name": "stdout",
     "output_type": "stream",
     "text": [
      "Successful\n"
     ]
    }
   ],
   "source": [
    "import pymysql\n",
    "db = pymysql.connect(host='localhost', user='root', password='12345tzp', port=3306, db='spiders')\n",
    "cursor = db.cursor()\n",
    "\n",
    "data = {\n",
    "    'id': '20120001',\n",
    "    'name': 'Bob',\n",
    "    'age': 21\n",
    "}\n",
    "\n",
    "table = 'students'\n",
    "keys = ','.join(data.keys())\n",
    "values = ','.join(['%s'] * len(data))\n",
    "\n",
    "sql = 'INSERT INTO {table}({keys}) VALUES ({values}) ON DUPLICATE KEY UPDATE '.format(table=table, keys=keys, values=values)\n",
    "update = ','.join([\"{key} = %s\".format(key=key) for key in data])\n",
    "sql += update\n",
    "try:\n",
    "    if cursor.execute(sql, tuple(data.values())*2):\n",
    "        print('Successful')\n",
    "        db.commit()\n",
    "except:\n",
    "    print('Failed')\n",
    "    db.rollback()\n",
    "db.close()"
   ]
  },
  {
   "cell_type": "markdown",
   "id": "7f9b84a7",
   "metadata": {},
   "source": [
    "删除数据"
   ]
  },
  {
   "cell_type": "code",
   "execution_count": 23,
   "id": "5f666e54",
   "metadata": {},
   "outputs": [],
   "source": [
    "import pymysql\n",
    "db = pymysql.connect(host='localhost', user='root', password='12345tzp', port=3306, db='spiders')\n",
    "cursor = db.cursor()\n",
    "\n",
    "table = 'students'\n",
    "condition = 'age > 20'\n",
    "\n",
    "sql = 'DELETE FROM  {table} WHERE {condition}'.format(table=table, condition=condition)\n",
    "try:\n",
    "    cursor.execute(sql)\n",
    "    db.commit()\n",
    "except:\n",
    "    db.rollback()\n",
    "\n",
    "db.close()"
   ]
  },
  {
   "cell_type": "markdown",
   "id": "016a3fde",
   "metadata": {},
   "source": [
    "查询数据"
   ]
  },
  {
   "cell_type": "code",
   "execution_count": 25,
   "id": "dda0944e",
   "metadata": {},
   "outputs": [
    {
     "name": "stdout",
     "output_type": "stream",
     "text": [
      "Count: 1\n",
      "One: ('20120001', 'Bob', 20)\n",
      "Results: ()\n",
      "Results Type: <class 'tuple'>\n"
     ]
    }
   ],
   "source": [
    "import pymysql\n",
    "db = pymysql.connect(host='localhost', user='root', password='12345tzp', port=3306, db='spiders')\n",
    "cursor = db.cursor()\n",
    "\n",
    "sql = 'SELECT * FROM students WHERE age >= 20'\n",
    "\n",
    "try:\n",
    "    cursor.execute(sql)\n",
    "    print('Count:', cursor.rowcount)\n",
    "    one = cursor.fetchone()\n",
    "    print('One:', one)\n",
    "    results = cursor.fetchall()\n",
    "    print('Results:', results)\n",
    "    print('Results Type:', type(results))\n",
    "    for row in results:\n",
    "        print(row)\n",
    "except:\n",
    "    print('Error')"
   ]
  },
  {
   "cell_type": "markdown",
   "id": "fbef0d29",
   "metadata": {},
   "source": [
    "不使用元组，fetchall返回类型为元组，占用空间开销过大"
   ]
  },
  {
   "cell_type": "code",
   "execution_count": 26,
   "id": "5c29bf1a",
   "metadata": {},
   "outputs": [
    {
     "name": "stdout",
     "output_type": "stream",
     "text": [
      "Count: 1\n",
      "Row: ('20120001', 'Bob', 20)\n"
     ]
    }
   ],
   "source": [
    "import pymysql\n",
    "db = pymysql.connect(host='localhost', user='root', password='12345tzp', port=3306, db='spiders')\n",
    "cursor = db.cursor()\n",
    "\n",
    "sql = 'SELECT * FROM students WHERE age >= 20'\n",
    "try:\n",
    "    cursor.execute(sql)\n",
    "    print('Count:', cursor.rowcount)\n",
    "    row = cursor.fetchone()\n",
    "    while row:\n",
    "        print('Row:', row)\n",
    "        row = cursor.fetchone()\n",
    "except:\n",
    "    print('Error')"
   ]
  },
  {
   "cell_type": "code",
   "execution_count": null,
   "id": "036a778a",
   "metadata": {},
   "outputs": [],
   "source": []
  }
 ],
 "metadata": {
  "kernelspec": {
   "display_name": "python36",
   "language": "python",
   "name": "python36"
  },
  "language_info": {
   "codemirror_mode": {
    "name": "ipython",
    "version": 3
   },
   "file_extension": ".py",
   "mimetype": "text/x-python",
   "name": "python",
   "nbconvert_exporter": "python",
   "pygments_lexer": "ipython3",
   "version": "3.6.2"
  }
 },
 "nbformat": 4,
 "nbformat_minor": 5
}
