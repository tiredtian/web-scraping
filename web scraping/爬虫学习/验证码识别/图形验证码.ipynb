{
 "cells": [
  {
   "cell_type": "code",
   "execution_count": 1,
   "id": "03c7b1a0",
   "metadata": {},
   "outputs": [],
   "source": [
    "import tesserocr\n",
    "from PIL import Image"
   ]
  },
  {
   "cell_type": "code",
   "execution_count": 3,
   "id": "208b1c1d",
   "metadata": {},
   "outputs": [
    {
     "name": "stdout",
     "output_type": "stream",
     "text": [
      "JR42\n",
      "\n"
     ]
    }
   ],
   "source": [
    "image = Image.open('code.jpg')\n",
    "result = tesserocr.image_to_text(image)\n",
    "print(result)"
   ]
  },
  {
   "cell_type": "code",
   "execution_count": 4,
   "id": "e72f4ec7",
   "metadata": {},
   "outputs": [
    {
     "name": "stdout",
     "output_type": "stream",
     "text": [
      "PERT.\n",
      "\n"
     ]
    }
   ],
   "source": [
    "image = Image.open('code1.jpg')\n",
    "result = tesserocr.image_to_text(image)\n",
    "print(result)"
   ]
  },
  {
   "cell_type": "markdown",
   "id": "b08e5b4c",
   "metadata": {},
   "source": [
    "图形验证码中存在多余线条，影响识别结果，可以对原图像做转灰度，二值化处理"
   ]
  },
  {
   "cell_type": "code",
   "execution_count": 5,
   "id": "7ab85c12",
   "metadata": {},
   "outputs": [
    {
     "name": "stdout",
     "output_type": "stream",
     "text": [
      "PFRT\n",
      "\n"
     ]
    }
   ],
   "source": [
    "import tesserocr\n",
    "from PIL import Image\n",
    "\n",
    "image = Image.open('code1.jpg')\n",
    "\n",
    "image = image.convert('L')\n",
    "threshold = 127\n",
    "table = []\n",
    "for i in range(256):\n",
    "    if i < threshold:\n",
    "        table.append(0)\n",
    "    else:\n",
    "        table.append(1)\n",
    "\n",
    "image = image.point(table, '1')\n",
    "result = tesserocr.image_to_text(image)\n",
    "print(result)"
   ]
  },
  {
   "cell_type": "code",
   "execution_count": null,
   "id": "9736b17c",
   "metadata": {},
   "outputs": [],
   "source": []
  }
 ],
 "metadata": {
  "kernelspec": {
   "display_name": "python36",
   "language": "python",
   "name": "python36"
  }
 },
 "nbformat": 4,
 "nbformat_minor": 5
}
