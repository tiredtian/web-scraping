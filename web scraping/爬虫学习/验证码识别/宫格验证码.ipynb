{
 "cells": [
  {
   "cell_type": "markdown",
   "id": "131b8225",
   "metadata": {},
   "source": [
    "很少用"
   ]
  }
 ],
 "metadata": {
  "kernelspec": {
   "display_name": "python36",
   "language": "python",
   "name": "python36"
  }
 },
 "nbformat": 4,
 "nbformat_minor": 5
}
