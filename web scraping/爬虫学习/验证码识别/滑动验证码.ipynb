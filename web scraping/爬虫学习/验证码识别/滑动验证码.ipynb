{
 "cells": [
  {
   "cell_type": "markdown",
   "id": "4c0ff99b",
   "metadata": {},
   "source": [
    "等账户"
   ]
  }
 ],
 "metadata": {
  "kernelspec": {
   "display_name": "python36",
   "language": "python",
   "name": "python36"
  }
 },
 "nbformat": 4,
 "nbformat_minor": 5
}
