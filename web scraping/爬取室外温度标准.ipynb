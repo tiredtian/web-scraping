{
 "cells": [
  {
   "cell_type": "code",
   "execution_count": 1,
   "id": "b79be868",
   "metadata": {},
   "outputs": [
    {
     "name": "stdout",
     "output_type": "stream",
     "text": [
      "168\n"
     ]
    }
   ],
   "source": [
    "#爬虫拿到具体的每天温度数据\n",
    "import requests\n",
    "from bs4 import BeautifulSoup\n",
    "\n",
    "temp=[]\n",
    "for param in range(12,19):\n",
    "    headers = {\"User-Agent\":\"Mozilla/5.0 (Macintosh; Intel Mac OS X 10_15_7) AppleWebKit/537.36 (KHTML, like Gecko) Chrome/113.0.0.0 Safari/537.36\"}\n",
    "    response = requests.get(f\"https://www.tianqishi.com/wulumuqi/202306{param}.html\",headers=headers)\n",
    "    html = response.text\n",
    "    soup = BeautifulSoup(html,\"html.parser\")\n",
    "    data_table = soup.find(\"table\",attrs={\"class\":\"yuBaoTable\"})\n",
    "#     print(data_table)\n",
    "    tr_all = data_table.find_all(\"tr\")\n",
    "\n",
    "\n",
    "    for tr in tr_all:\n",
    "        td_all = tr.find_all(\"td\")\n",
    "        for td in td_all:\n",
    "            if \"℃\" in td.string:\n",
    "#                 print(td.string[0:2])\n",
    "                temp.append(int(td.string[0:2]))\n",
    "#             elif \"2023\" in td.string:\n",
    "#                 temp.append(td.string)\n",
    "    #data.append(temp)\n",
    "\n",
    "\n",
    "temp.reverse()\n",
    "print(len(temp))\n"
   ]
  },
  {
   "cell_type": "code",
   "execution_count": 2,
   "id": "97b770d2",
   "metadata": {
    "scrolled": false
   },
   "outputs": [],
   "source": [
    "##### 写入缺失文件并且生成新文件\n",
    "import pandas as pd\n",
    "import numpy as np\n",
    "\n",
    "\n",
    "data_file = '/Users/tianziping/datas/样本数据/ai预测参数数据爬虫-0618.xlsx'\n",
    "data_df = pd.read_excel(data_file                        )\n",
    "#print(data_df)\n",
    "new_data = pd.DataFrame({\"pred\":temp})\n",
    "#print(new_data)\n",
    "#data_df['outer_temperature'] = new_data['pred']\n",
    "rows = range(0*24,7*24)\n",
    "data_df.loc[rows,'outer_temperature']=new_data['pred']\n",
    "data_df.to_excel('/Users/tianziping/datas/样本数据/ai预测参数数据处理后-0618.xlsx',index=False)\n",
    "#print(data_df)"
   ]
  },
  {
   "cell_type": "code",
   "execution_count": null,
   "id": "4a8c9edb",
   "metadata": {},
   "outputs": [],
   "source": []
  }
 ],
 "metadata": {
  "kernelspec": {
   "display_name": "python310",
   "language": "python",
   "name": "python310"
  },
  "language_info": {
   "codemirror_mode": {
    "name": "ipython",
    "version": 3
   },
   "file_extension": ".py",
   "mimetype": "text/x-python",
   "name": "python",
   "nbconvert_exporter": "python",
   "pygments_lexer": "ipython3",
   "version": "3.10.11"
  }
 },
 "nbformat": 4,
 "nbformat_minor": 5
}
